{
 "cells": [
  {
   "cell_type": "code",
   "execution_count": null,
   "metadata": {},
   "outputs": [],
   "source": [
    "# NUMPY METODLARI\n",
    "\n",
    "# A)TEMEL İŞLEM METODLARI\n",
    "\n",
    "# array ([eleman1,eleman2,,,elemanN]) : Dizi oluşturmak için kullanılır.\n",
    "\n",
    "# array(::-1) : Diziyi ters çevirmek için kullanılır.\n",
    "\n",
    "# random.random (a): rastgele dizi oluşturmak için kullanılır. Yalnızca bir parametre alır.\n",
    "\n",
    "# random.randn(a1,a2) : rastgele dizi oluşturmak için kullanılır. random.randomdan farklı olarak iki parametre (satır,sutun vb.gibi) alır\n",
    "\n",
    "# reshape : Satır x sütun yapmak için kullanılır.\n",
    "\n",
    "# arange(başlangıç,bitiş,adımsayısı) :\n",
    "\n",
    "# zeros((satır,sutun)) : 0 lardan oluşan matris\n",
    "\n",
    "# ones ((satır,sutun)) : 1 lerden oluşan matris\n",
    "\n",
    "# eye() : birim matris oluşturur. (istenen boyutta)\n",
    "\n",
    "# concatenate : Matrisleri birleştirir.\n",
    "\n",
    "# ([matris1,matris2,axis=0]) # axis=0 ise satırları birleştirir.\n",
    "\n",
    "# ([matris1,matris2,axis=1]) # axis=1 ise sütunları birleştirir.\n",
    "\n",
    "# İŞLEM METODLARI\n",
    "\n",
    "# sum() #toplam\n",
    "\n",
    "# min() #minimum\n",
    "\n",
    "# max() #maksimum\n",
    "\n",
    "# mean() #ortalama\n",
    "\n",
    "# median() #medyan\n",
    "\n",
    "# std() #standart sapma\n",
    "\n",
    "# var() #varyans\n",
    "\n",
    "# T #transpoz"
   ]
  }
 ],
 "metadata": {
  "kernelspec": {
   "display_name": "Python 3.11.0 64-bit",
   "language": "python",
   "name": "python3"
  },
  "language_info": {
   "name": "python",
   "version": "3.11.0"
  },
  "orig_nbformat": 4,
  "vscode": {
   "interpreter": {
    "hash": "7c542dbbc07e6010b76b61de8a453dc04d29cd1fae7fbaa29851ecbad9aefb83"
   }
  }
 },
 "nbformat": 4,
 "nbformat_minor": 2
}
