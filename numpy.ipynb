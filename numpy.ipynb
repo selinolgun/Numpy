{
 "cells": [
  {
   "cell_type": "code",
   "execution_count": 2,
   "metadata": {},
   "outputs": [
    {
     "name": "stdout",
     "output_type": "stream",
     "text": [
      "['A' 'B' 'C' 'D']\n"
     ]
    },
    {
     "data": {
      "text/plain": [
       "numpy.ndarray"
      ]
     },
     "execution_count": 2,
     "metadata": {},
     "output_type": "execute_result"
    }
   ],
   "source": [
    "# Terminal ekranında pip install numpy yazarak kütüphaneyi yükleyebilirsiniz.\n",
    "\n",
    "import numpy\n",
    "\n",
    "dizi = numpy.array([\"A\",\"B\",\"C\",\"D\"])\n",
    "print(dizi)\n",
    "type(dizi)"
   ]
  },
  {
   "cell_type": "code",
   "execution_count": 3,
   "metadata": {},
   "outputs": [
    {
     "name": "stdout",
     "output_type": "stream",
     "text": [
      "['A' 'B' 'C' 'D']\n"
     ]
    },
    {
     "data": {
      "text/plain": [
       "numpy.ndarray"
      ]
     },
     "execution_count": 3,
     "metadata": {},
     "output_type": "execute_result"
    }
   ],
   "source": [
    "# numpy genellikle np ile kullanılır onun için bu içe aktarma yöntemini kullandık.\n",
    "\n",
    "import numpy as np\n",
    "\n",
    "dizi = np.array([\"A\",\"B\",\"C\",\"D\"])\n",
    "print(dizi)\n",
    "type(dizi)"
   ]
  },
  {
   "cell_type": "code",
   "execution_count": 4,
   "metadata": {},
   "outputs": [
    {
     "name": "stdout",
     "output_type": "stream",
     "text": [
      "[34 45 56  3]\n"
     ]
    },
    {
     "data": {
      "text/plain": [
       "numpy.ndarray"
      ]
     },
     "execution_count": 4,
     "metadata": {},
     "output_type": "execute_result"
    }
   ],
   "source": [
    "#  list, tuple, set, dict gibi bir dizi benzeri nesne ndarray'a dönüştürülebilir.\n",
    "tuple_dizi = np.array((34,45,56,3))\n",
    "\n",
    "print(tuple_dizi)\n",
    "type(tuple_dizi)"
   ]
  },
  {
   "cell_type": "code",
   "execution_count": 15,
   "metadata": {},
   "outputs": [
    {
     "name": "stdout",
     "output_type": "stream",
     "text": [
      "57\n"
     ]
    }
   ],
   "source": [
    "# O-D Diziler\n",
    "# Tek elemanı olur.\n",
    "\n",
    "dizi = np.array(57)\n",
    "\n",
    "print(dizi)"
   ]
  },
  {
   "cell_type": "code",
   "execution_count": 11,
   "metadata": {},
   "outputs": [
    {
     "name": "stdout",
     "output_type": "stream",
     "text": [
      "[ 2  4  6  8 10]\n"
     ]
    }
   ],
   "source": [
    "# 1-D Diziler\n",
    "# Dizi elemanları 0-D olan dizilere 1-D diziler denir.\n",
    "\n",
    "dizi1d = np.array([2,4,6,8,10])\n",
    "print(dizi1d)"
   ]
  },
  {
   "cell_type": "code",
   "execution_count": 12,
   "metadata": {},
   "outputs": [
    {
     "name": "stdout",
     "output_type": "stream",
     "text": [
      "[[ 2  4  6  8 10]\n",
      " [ 1  3  5  7  9]]\n"
     ]
    }
   ],
   "source": [
    "# 2-D Diziler\n",
    "# Dizi elemanları 1-D olan dizilere 2-D diziler denir.\n",
    "# Matrisleri ve tensörleri ifade etmek için kullanılırlar.\n",
    "\n",
    "dizi2d = np.array([[2,4,6,8,10],[1,3,5,7,9]])\n",
    "print(dizi2d)"
   ]
  },
  {
   "cell_type": "code",
   "execution_count": 13,
   "metadata": {},
   "outputs": [
    {
     "name": "stdout",
     "output_type": "stream",
     "text": [
      "[[[ 2  4  6  8 10]\n",
      "  [ 1  3  5  7  9]]\n",
      "\n",
      " [[ 2  4  6  8 10]\n",
      "  [ 1  3  5  7  9]]]\n"
     ]
    }
   ],
   "source": [
    "# 3-D Diziler\n",
    "# Dizi elemanları 2-D olan dizilere 3-D diziler denir.\n",
    "# Genellikler üçüncü derece tensörleri ifade etmek için kullanılırlar.\n",
    "\n",
    "dizi3d = np.array([[[2,4,6,8,10],[1,3,5,7,9]],[[2,4,6,8,10],[1,3,5,7,9]]])\n",
    "print(dizi3d)"
   ]
  },
  {
   "cell_type": "code",
   "execution_count": 16,
   "metadata": {},
   "outputs": [
    {
     "name": "stdout",
     "output_type": "stream",
     "text": [
      "0\n",
      "1\n",
      "2\n",
      "3\n"
     ]
    }
   ],
   "source": [
    "# ndim özelliği ile bir dizinin kaç boyuta sahip olduğunu öğrenebilirsiniz.\n",
    "\n",
    "print(dizi.ndim)\n",
    "print(dizi1d.ndim)\n",
    "print(dizi2d.ndim)\n",
    "print(dizi3d.ndim)"
   ]
  },
  {
   "cell_type": "code",
   "execution_count": 17,
   "metadata": {},
   "outputs": [
    {
     "name": "stdout",
     "output_type": "stream",
     "text": [
      "[[[[[[1 2 3 4 5]]]]]]\n",
      "Boyut sayısı: 6\n"
     ]
    }
   ],
   "source": [
    "# ndmin özelliği ile boyut sayısı tanımlanabilir.\n",
    "\n",
    "dizi6d = np.array([1,2,3,4,5],ndmin = 6)\n",
    "\n",
    "print(dizi6d)\n",
    "print(\"Boyut sayısı:\", dizi6d.ndim)"
   ]
  },
  {
   "cell_type": "code",
   "execution_count": 4,
   "metadata": {},
   "outputs": [
    {
     "name": "stdout",
     "output_type": "stream",
     "text": [
      "1\n",
      "3\n",
      "5\n",
      "7\n",
      "9\n"
     ]
    }
   ],
   "source": [
    "# Dizi elemanlarına erişmek\n",
    "import numpy as np\n",
    "\n",
    "dizi = np.array([1,3,5,7,9])\n",
    "\n",
    "print(dizi[0]) # Diziler 0'ıncı değerden başlar\n",
    "print(dizi[1])\n",
    "print(dizi[2])\n",
    "print(dizi[3])\n",
    "print(dizi[4])"
   ]
  },
  {
   "cell_type": "code",
   "execution_count": 5,
   "metadata": {},
   "outputs": [
    {
     "name": "stdout",
     "output_type": "stream",
     "text": [
      "1\n",
      "10\n",
      "5\n",
      "8\n"
     ]
    }
   ],
   "source": [
    "# 2 Boyutlu Dizilere Erişim\n",
    "# Dizi numarası ve eleman numarasını virgülle ayırarak belirtiyoruz.\n",
    "\n",
    "dizi = np.array([[1,3,5,7,9],[2,4,6,8,10]])\n",
    "\n",
    "print(dizi[0,0])\n",
    "print(dizi[1,4])\n",
    "print(dizi[0,2])\n",
    "print(dizi[1,3])"
   ]
  },
  {
   "cell_type": "code",
   "execution_count": 7,
   "metadata": {},
   "outputs": [
    {
     "name": "stdout",
     "output_type": "stream",
     "text": [
      "6\n"
     ]
    }
   ],
   "source": [
    "# 3-D Dizilere Erişim\n",
    "\n",
    "dizi = np.array([[[1,3,5,7,9],[2,4,6,8,10]],[[11,13,15,17,19],[12,14,16,18,20]]])\n",
    "\n",
    "print(dizi[0,1,2])\n",
    "\n",
    "# printten sonra belirttiğimiz 0 değeri 2-D dizilerdeki boyutlara bakar ve [[1,3,5,7,9],[2,4,6,8,10]] erişir\n",
    "# sonraki 1 sayısı 1-D dizilerdeki boyutlara bakar ve [2,4,6,8,10] erişir\n",
    "# sonraki 2 sayısı 0-D dizilerdeki boyutlara bakar ve 6 sayısına erişir."
   ]
  },
  {
   "cell_type": "code",
   "execution_count": 8,
   "metadata": {},
   "outputs": [
    {
     "name": "stdout",
     "output_type": "stream",
     "text": [
      "7\n"
     ]
    }
   ],
   "source": [
    "print(dizi[0,0,3])"
   ]
  },
  {
   "cell_type": "code",
   "execution_count": 9,
   "metadata": {},
   "outputs": [
    {
     "name": "stdout",
     "output_type": "stream",
     "text": [
      "8\n"
     ]
    }
   ],
   "source": [
    "print(dizi[0,1,3])"
   ]
  },
  {
   "cell_type": "code",
   "execution_count": 10,
   "metadata": {},
   "outputs": [
    {
     "name": "stdout",
     "output_type": "stream",
     "text": [
      "12\n"
     ]
    }
   ],
   "source": [
    "print(dizi[1,1,0])"
   ]
  },
  {
   "cell_type": "code",
   "execution_count": 17,
   "metadata": {},
   "outputs": [
    {
     "name": "stdout",
     "output_type": "stream",
     "text": [
      "1\n",
      "10\n",
      "5\n",
      "2\n",
      "4\n"
     ]
    }
   ],
   "source": [
    "# Negatif İndeksleme\n",
    "\n",
    "# Dizilere sondan erişmekte mümkündür.\n",
    "\n",
    "dizi = np.array([[1,3,5,7,9],[2,4,6,8,10]])\n",
    "\n",
    "print(dizi[0,-5])\n",
    "print(dizi[1,-1])\n",
    "print(dizi[0,-3])\n",
    "print(dizi[-1,-5])\n",
    "print(dizi[-1,1])"
   ]
  },
  {
   "cell_type": "code",
   "execution_count": 18,
   "metadata": {},
   "outputs": [
    {
     "name": "stdout",
     "output_type": "stream",
     "text": [
      "7\n"
     ]
    }
   ],
   "source": [
    "print(dizi[-2,-2])"
   ]
  },
  {
   "cell_type": "code",
   "execution_count": 19,
   "metadata": {},
   "outputs": [
    {
     "name": "stdout",
     "output_type": "stream",
     "text": [
      "8\n"
     ]
    }
   ],
   "source": [
    "print(dizi[-1,-2])"
   ]
  },
  {
   "cell_type": "code",
   "execution_count": 23,
   "metadata": {},
   "outputs": [
    {
     "name": "stdout",
     "output_type": "stream",
     "text": [
      "[1 2 3 4 5]\n",
      "[1 2 3 4 5]\n",
      "[1 2 3 4 5]\n"
     ]
    }
   ],
   "source": [
    "# Numpy Slicing\n",
    "\n",
    "dizi = np.array([1,2,3,4,5,6,7,8,9,10])\n",
    "\n",
    "print(dizi[0:5])\n",
    "print(dizi[:5])\n",
    "print(dizi[0:-5])"
   ]
  },
  {
   "cell_type": "code",
   "execution_count": 24,
   "metadata": {},
   "outputs": [
    {
     "name": "stdout",
     "output_type": "stream",
     "text": [
      "[ 6  7  8  9 10]\n"
     ]
    }
   ],
   "source": [
    "print(dizi[5:])"
   ]
  },
  {
   "cell_type": "code",
   "execution_count": 25,
   "metadata": {},
   "outputs": [
    {
     "name": "stdout",
     "output_type": "stream",
     "text": [
      "[1 3 5 7 9]\n"
     ]
    }
   ],
   "source": [
    "# Slicing işleminde 3. bir parametrede vardır. Sayıları atlayarak almanızı sağlar.\n",
    "\n",
    "print(dizi[::2])"
   ]
  },
  {
   "cell_type": "code",
   "execution_count": 26,
   "metadata": {},
   "outputs": [
    {
     "name": "stdout",
     "output_type": "stream",
     "text": [
      "[4 6 8]\n"
     ]
    }
   ],
   "source": [
    "# 2-D diziler için Slicing\n",
    "\n",
    "dizi = np.array([[1,3,5,7,9],[2,4,6,8,10]])\n",
    "\n",
    "print(dizi[1,1:4])"
   ]
  },
  {
   "cell_type": "code",
   "execution_count": 27,
   "metadata": {},
   "outputs": [
    {
     "name": "stdout",
     "output_type": "stream",
     "text": [
      "[5 6]\n"
     ]
    }
   ],
   "source": [
    "print(dizi[0:2,2])\n",
    "\n",
    "# Her iki diziden de 3. elemanı almış olduk."
   ]
  },
  {
   "cell_type": "code",
   "execution_count": 28,
   "metadata": {},
   "outputs": [
    {
     "name": "stdout",
     "output_type": "stream",
     "text": [
      "[[3 5 7]\n",
      " [4 6 8]]\n"
     ]
    }
   ],
   "source": [
    "print(dizi[0:2,1:4])\n",
    "\n",
    "# Her iki diziden de 2. elemandan 5.elemana kadar olan kısmı aldık"
   ]
  },
  {
   "cell_type": "code",
   "execution_count": 7,
   "metadata": {},
   "outputs": [
    {
     "data": {
      "text/plain": [
       "array([ 2, 12, 30, 56, 90])"
      ]
     },
     "execution_count": 7,
     "metadata": {},
     "output_type": "execute_result"
    }
   ],
   "source": [
    "import numpy as np\n",
    "a = np.array([1,3,5,7,9])\n",
    "b = np.array([2,4,6,8,10])\n",
    "\n",
    "a*b"
   ]
  },
  {
   "cell_type": "code",
   "execution_count": null,
   "metadata": {},
   "outputs": [],
   "source": []
  }
 ],
 "metadata": {
  "kernelspec": {
   "display_name": "Python 3.11.0 64-bit",
   "language": "python",
   "name": "python3"
  },
  "language_info": {
   "codemirror_mode": {
    "name": "ipython",
    "version": 3
   },
   "file_extension": ".py",
   "mimetype": "text/x-python",
   "name": "python",
   "nbconvert_exporter": "python",
   "pygments_lexer": "ipython3",
   "version": "3.11.0"
  },
  "orig_nbformat": 4,
  "vscode": {
   "interpreter": {
    "hash": "7c542dbbc07e6010b76b61de8a453dc04d29cd1fae7fbaa29851ecbad9aefb83"
   }
  }
 },
 "nbformat": 4,
 "nbformat_minor": 2
}
