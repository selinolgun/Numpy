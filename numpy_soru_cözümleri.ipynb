{
 "cells": [
  {
   "cell_type": "code",
   "execution_count": 2,
   "metadata": {},
   "outputs": [
    {
     "data": {
      "text/plain": [
       "array([ 1,  2,  3,  4,  5,  6,  7,  8,  9, 10])"
      ]
     },
     "execution_count": 2,
     "metadata": {},
     "output_type": "execute_result"
    }
   ],
   "source": [
    "import numpy as np\n",
    "\n",
    "# 1'den 10'a kadar bir Numpy dizisi oluşturun\n",
    "\n",
    "x = np.array([1,2,3,4,5,6,7,8,9,10])\n",
    "x"
   ]
  },
  {
   "cell_type": "code",
   "execution_count": 3,
   "metadata": {},
   "outputs": [
    {
     "data": {
      "text/plain": [
       "array([[ 1,  3,  5,  7,  9],\n",
       "       [ 2,  4,  6,  8, 10]])"
      ]
     },
     "execution_count": 3,
     "metadata": {},
     "output_type": "execute_result"
    }
   ],
   "source": [
    "# 2 boyutlu bir Numpy dizisi oluşturun\n",
    "\n",
    "x = np.array([[1,3,5,7,9],[2,4,6,8,10]])\n",
    "x"
   ]
  },
  {
   "cell_type": "code",
   "execution_count": 7,
   "metadata": {},
   "outputs": [
    {
     "name": "stdout",
     "output_type": "stream",
     "text": [
      "2\n"
     ]
    }
   ],
   "source": [
    "# Boyutları 2x3 olan bir Numpy dizisinin satır sayısını bulun\n",
    "\n",
    "x = np.array([[1,2,3],[4,5,6]])\n",
    "print(x.shape[0])"
   ]
  },
  {
   "cell_type": "code",
   "execution_count": 8,
   "metadata": {},
   "outputs": [
    {
     "name": "stdout",
     "output_type": "stream",
     "text": [
      "3\n"
     ]
    }
   ],
   "source": [
    "# Boyutları 2x3 olan bir Numpy dizisinin sütun sayısını bulun\n",
    "\n",
    "print(x.shape[1])"
   ]
  },
  {
   "cell_type": "code",
   "execution_count": 11,
   "metadata": {},
   "outputs": [
    {
     "name": "stdout",
     "output_type": "stream",
     "text": [
      "10\n"
     ]
    }
   ],
   "source": [
    "# Bir Numpy dizisindeki en büyük değeri bulun\n",
    "\n",
    "x = np.array([1,2,3,4,5,6,7,8,9,10])\n",
    "print(x.max())"
   ]
  },
  {
   "cell_type": "code",
   "execution_count": 12,
   "metadata": {},
   "outputs": [
    {
     "name": "stdout",
     "output_type": "stream",
     "text": [
      "1\n"
     ]
    }
   ],
   "source": [
    "# Bir Numpy dizisindeki en küçük değeri bulun\n",
    "\n",
    "print(x.min())"
   ]
  },
  {
   "cell_type": "code",
   "execution_count": 13,
   "metadata": {},
   "outputs": [
    {
     "name": "stdout",
     "output_type": "stream",
     "text": [
      "5.5\n"
     ]
    }
   ],
   "source": [
    "# Bir Numpy dizisindeki ortalamayı bulun\n",
    "\n",
    "print(x.mean())"
   ]
  },
  {
   "cell_type": "code",
   "execution_count": 14,
   "metadata": {},
   "outputs": [
    {
     "name": "stdout",
     "output_type": "stream",
     "text": [
      "2.8722813232690143\n"
     ]
    }
   ],
   "source": [
    "# Bir Numpy dizisindeki standart sapmayı bulun\n",
    "\n",
    "print(x.std())"
   ]
  },
  {
   "cell_type": "code",
   "execution_count": 7,
   "metadata": {},
   "outputs": [
    {
     "name": "stdout",
     "output_type": "stream",
     "text": [
      "(array([0, 1], dtype=int64),)\n",
      "(array([0, 1], dtype=int64),)\n",
      "(array([2], dtype=int64),)\n",
      "(array([3], dtype=int64),)\n",
      "(array([4], dtype=int64),)\n",
      "(array([5, 6, 7], dtype=int64),)\n",
      "(array([5, 6, 7], dtype=int64),)\n",
      "(array([5, 6, 7], dtype=int64),)\n",
      "(array([8], dtype=int64),)\n",
      "(array([ 9, 10], dtype=int64),)\n",
      "(array([ 9, 10], dtype=int64),)\n",
      "(array([11], dtype=int64),)\n",
      "(array([12, 13, 14], dtype=int64),)\n",
      "(array([12, 13, 14], dtype=int64),)\n",
      "(array([12, 13, 14], dtype=int64),)\n",
      "(array([15], dtype=int64),)\n",
      "[1, 5, 7, 9]\n"
     ]
    }
   ],
   "source": [
    "# Bir Numpy dizisinde tekrar eden elemanları bulun\n",
    "\n",
    "x = np.array([1,1,2,3,4,5,5,5,6,7,7,8,9,9,9,10])\n",
    "a = 0\n",
    "b = []\n",
    "while a < len(x):\n",
    "    y = np.where(x == x[a])\n",
    "    if len(y[0]) > 1:\n",
    "        if not x[a] in b:\n",
    "            b.append(x[a])\n",
    "    a += 1\n",
    "print(b)"
   ]
  },
  {
   "cell_type": "code",
   "execution_count": 50,
   "metadata": {},
   "outputs": [
    {
     "name": "stdout",
     "output_type": "stream",
     "text": [
      "55\n"
     ]
    }
   ],
   "source": [
    "# 2 boyutlu bir Numpy dizisindeki tüm elemanların toplamını bulun\n",
    "\n",
    "x = np.array([[1,3,5,7,9],[2,4,6,8,10]])\n",
    "\n",
    "y = x.sum()\n",
    "print(y)"
   ]
  },
  {
   "cell_type": "code",
   "execution_count": 55,
   "metadata": {},
   "outputs": [
    {
     "name": "stdout",
     "output_type": "stream",
     "text": [
      "25\n",
      "30\n"
     ]
    }
   ],
   "source": [
    "# 2 boyutlu bir Numpy dizisindeki her bir satırdaki elemanların toplamını bulun\n",
    "\n",
    "x = np.array([[1,3,5,7,9],[2,4,6,8,10]])\n",
    "\n",
    "y = x[0].sum()\n",
    "z = x[1].sum()\n",
    "\n",
    "print(y)\n",
    "print(z)"
   ]
  },
  {
   "cell_type": "code",
   "execution_count": 61,
   "metadata": {},
   "outputs": [
    {
     "name": "stdout",
     "output_type": "stream",
     "text": [
      "3\n",
      "7\n",
      "11\n",
      "15\n",
      "19\n"
     ]
    }
   ],
   "source": [
    "# 2 boyutlu bir Numpy dizisindeki her bir sütundaki elemanların toplamını bulun\n",
    "\n",
    "x = np.array([[1,3,5,7,9],[2,4,6,8,10]])\n",
    "\n",
    "y = x[:,0:1].sum()\n",
    "z = x[:,1:2].sum()\n",
    "a = x[:,2:3].sum()\n",
    "b = x[:,3:4].sum()\n",
    "c = x[:,4:5].sum()\n",
    "\n",
    "print(y)\n",
    "print(z)\n",
    "print(a)\n",
    "print(b)\n",
    "print(c)"
   ]
  },
  {
   "cell_type": "code",
   "execution_count": 67,
   "metadata": {},
   "outputs": [
    {
     "name": "stdout",
     "output_type": "stream",
     "text": [
      "[[ 1  3]\n",
      " [ 5  7]\n",
      " [ 9  2]\n",
      " [ 4  6]\n",
      " [ 8 10]]\n"
     ]
    }
   ],
   "source": [
    "# Numpy dizisi boyutlarını değiştirin\n",
    "\n",
    "x = np.array([[1,3,5,7,9],[2,4,6,8,10]])\n",
    "\n",
    "print(x.reshape(5,2))"
   ]
  },
  {
   "cell_type": "code",
   "execution_count": 69,
   "metadata": {},
   "outputs": [
    {
     "name": "stdout",
     "output_type": "stream",
     "text": [
      "[[ 1  3  5  7  9]\n",
      " [ 2  4  6  8 10]]\n",
      "[[ 1  2]\n",
      " [ 3  4]\n",
      " [ 5  6]\n",
      " [ 7  8]\n",
      " [ 9 10]]\n"
     ]
    }
   ],
   "source": [
    "# Numpy dizisindeki elemanların transpozunu alın\n",
    "\n",
    "x = np.array([[1,3,5,7,9],[2,4,6,8,10]])\n",
    "\n",
    "print(x)\n",
    "print(x.T)"
   ]
  },
  {
   "cell_type": "code",
   "execution_count": 70,
   "metadata": {},
   "outputs": [
    {
     "name": "stdout",
     "output_type": "stream",
     "text": [
      "[[2 3 4 5 7]\n",
      " [1 4 6 6 8]]\n"
     ]
    }
   ],
   "source": [
    "# Numpy dizisindeki elemanların sıralamasını yapın\n",
    "\n",
    "x = np.array([[5,7,3,4,2],[6,4,8,1,6]])\n",
    "\n",
    "print(np.sort(x))"
   ]
  },
  {
   "cell_type": "code",
   "execution_count": 71,
   "metadata": {},
   "outputs": [
    {
     "name": "stdout",
     "output_type": "stream",
     "text": [
      "1.5\n",
      "3.5\n",
      "5.5\n",
      "7.5\n",
      "9.5\n"
     ]
    }
   ],
   "source": [
    "# 2 boyutlu bir Numpy dizisindeki her bir sütundaki elemanların ortalamasını bulun\n",
    "\n",
    "x = np.array([[1,3,5,7,9],[2,4,6,8,10]])\n",
    "\n",
    "y = x[:,0:1].mean()\n",
    "z = x[:,1:2].mean()\n",
    "a = x[:,2:3].mean()\n",
    "b = x[:,3:4].mean()\n",
    "c = x[:,4:5].mean()\n",
    "\n",
    "print(y)\n",
    "print(z)\n",
    "print(a)\n",
    "print(b)\n",
    "print(c)"
   ]
  },
  {
   "cell_type": "code",
   "execution_count": 73,
   "metadata": {},
   "outputs": [
    {
     "name": "stdout",
     "output_type": "stream",
     "text": [
      "2.8284271247461903\n",
      "2.8284271247461903\n"
     ]
    }
   ],
   "source": [
    "# 2 boyutlu bir Numpy dizisindeki her bir satırdaki elemanların standart sapmasını bulun\n",
    "\n",
    "x = np.array([[1,3,5,7,9],[2,4,6,8,10]])\n",
    "\n",
    "y = x[0].std()\n",
    "z = x[1].std()\n",
    "\n",
    "print(y)\n",
    "print(z)"
   ]
  },
  {
   "cell_type": "code",
   "execution_count": 80,
   "metadata": {},
   "outputs": [
    {
     "name": "stdout",
     "output_type": "stream",
     "text": [
      "Bulunduğu satır: [0], Bulunduğu sütun: [2]\n"
     ]
    }
   ],
   "source": [
    "# 2 boyutlu bir Numpy dizisinde belirli bir elemanın index değerini bulun\n",
    "\n",
    "x = np.array([[1,3,5,7,9],[2,4,6,8,10]])\n",
    "\n",
    "y = np.where(x == 5)\n",
    "print(f\"Bulunduğu satır: {y[0]}, Bulunduğu sütun: {y[1]}\")"
   ]
  },
  {
   "cell_type": "code",
   "execution_count": 81,
   "metadata": {},
   "outputs": [
    {
     "name": "stdout",
     "output_type": "stream",
     "text": [
      "[5 6]\n"
     ]
    }
   ],
   "source": [
    "# 2 boyutlu bir Numpy dizisinde belirli bir sütunu seçin\n",
    "\n",
    "x = np.array([[1,3,5,7,9],[2,4,6,8,10]])\n",
    "\n",
    "print(x[:,2])"
   ]
  },
  {
   "cell_type": "code",
   "execution_count": 82,
   "metadata": {},
   "outputs": [
    {
     "name": "stdout",
     "output_type": "stream",
     "text": [
      "[ 2  4  6  8 10]\n"
     ]
    }
   ],
   "source": [
    "# 2 boyutlu bir Numpy dizisinde belirli bir satırı seçin\n",
    "\n",
    "x = np.array([[1,3,5,7,9],[2,4,6,8,10]])\n",
    "\n",
    "print(x[1])"
   ]
  },
  {
   "cell_type": "code",
   "execution_count": null,
   "metadata": {},
   "outputs": [],
   "source": []
  }
 ],
 "metadata": {
  "kernelspec": {
   "display_name": "Python 3.11.0 64-bit",
   "language": "python",
   "name": "python3"
  },
  "language_info": {
   "codemirror_mode": {
    "name": "ipython",
    "version": 3
   },
   "file_extension": ".py",
   "mimetype": "text/x-python",
   "name": "python",
   "nbconvert_exporter": "python",
   "pygments_lexer": "ipython3",
   "version": "3.11.0"
  },
  "orig_nbformat": 4,
  "vscode": {
   "interpreter": {
    "hash": "7c542dbbc07e6010b76b61de8a453dc04d29cd1fae7fbaa29851ecbad9aefb83"
   }
  }
 },
 "nbformat": 4,
 "nbformat_minor": 2
}
