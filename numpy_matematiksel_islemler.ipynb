{
 "cells": [
  {
   "cell_type": "code",
   "execution_count": 1,
   "metadata": {},
   "outputs": [],
   "source": [
    "import numpy as np"
   ]
  },
  {
   "cell_type": "code",
   "execution_count": 2,
   "metadata": {},
   "outputs": [
    {
     "name": "stdout",
     "output_type": "stream",
     "text": [
      "[1 1 8 2 9]\n"
     ]
    }
   ],
   "source": [
    "# element - wise, array - wise\n",
    "\n",
    "x = np.random.randint(1, 10, size= 5)\n",
    "\n",
    "print(x)"
   ]
  },
  {
   "cell_type": "code",
   "execution_count": 3,
   "metadata": {},
   "outputs": [
    {
     "name": "stdout",
     "output_type": "stream",
     "text": [
      "[6 4 4 8 4]\n"
     ]
    }
   ],
   "source": [
    "y = np.random.randint(1, 10, size= 5)\n",
    "\n",
    "print(y)"
   ]
  },
  {
   "cell_type": "code",
   "execution_count": 4,
   "metadata": {},
   "outputs": [
    {
     "name": "stdout",
     "output_type": "stream",
     "text": [
      "[ 7  5 12 10 13]\n",
      "[ 7  5 12 10 13]\n"
     ]
    }
   ],
   "source": [
    "print(x + y)\n",
    "print(np.add(x, y))\n",
    "\n",
    "# İki şekilde de toplama işlemi yapılabiliyor.\n",
    "# Toplama işlemi aynı index numarasına sahip olanlar arasında yapılıyor."
   ]
  },
  {
   "cell_type": "code",
   "execution_count": 5,
   "metadata": {},
   "outputs": [
    {
     "name": "stdout",
     "output_type": "stream",
     "text": [
      "<class 'numpy.ndarray'>\n",
      "<class 'numpy.ndarray'>\n"
     ]
    }
   ],
   "source": [
    "print(type(x + y))\n",
    "print(type(np.add(x, y)))\n",
    "\n",
    "# Her iki toplama işleminde de sonuç olarak yine bir ndarray çıktısı alırız."
   ]
  },
  {
   "cell_type": "code",
   "execution_count": 6,
   "metadata": {},
   "outputs": [
    {
     "name": "stdout",
     "output_type": "stream",
     "text": [
      "[-5 -3  4 -6  5]\n",
      "[-5 -3  4 -6  5]\n"
     ]
    }
   ],
   "source": [
    "print(x - y)\n",
    "print(np.subtract(x, y))\n",
    "\n",
    "# Çıkarma işlemi için böyle kullanıyoruz."
   ]
  },
  {
   "cell_type": "code",
   "execution_count": 7,
   "metadata": {},
   "outputs": [
    {
     "name": "stdout",
     "output_type": "stream",
     "text": [
      "[ 6  4 32 16 36]\n",
      "[ 6  4 32 16 36]\n"
     ]
    }
   ],
   "source": [
    "print(x * y)\n",
    "print(np.multiply(x, y))\n",
    "\n",
    "# Çarpma işleminde bunları kullanıyoruz."
   ]
  },
  {
   "cell_type": "code",
   "execution_count": 8,
   "metadata": {},
   "outputs": [
    {
     "name": "stdout",
     "output_type": "stream",
     "text": [
      "[0.16666667 0.25       2.         0.25       2.25      ]\n",
      "[0.16666667 0.25       2.         0.25       2.25      ]\n"
     ]
    }
   ],
   "source": [
    "print(x / y)\n",
    "print(np.divide(x, y))\n",
    "\n",
    "# Bölme işleminde bunları kullanıyoruz."
   ]
  },
  {
   "cell_type": "code",
   "execution_count": 9,
   "metadata": {},
   "outputs": [
    {
     "name": "stdout",
     "output_type": "stream",
     "text": [
      "[ 4  4 11  5 12]\n",
      "[-2 -2  5 -1  6]\n",
      "[ 3  3 24  6 27]\n",
      "[0.33333333 0.33333333 2.66666667 0.66666667 3.        ]\n"
     ]
    }
   ],
   "source": [
    "print(x + 3)\n",
    "print(x - 3)\n",
    "print(x * 3)\n",
    "print(x / 3)\n",
    "\n",
    "# Sabit bir sayıyla işleme soktuğumuzda bütün elemanlar tek tek aynı sabit sayıyla işleme girerler."
   ]
  },
  {
   "cell_type": "code",
   "execution_count": 10,
   "metadata": {},
   "outputs": [
    {
     "name": "stdout",
     "output_type": "stream",
     "text": [
      "[False False False False False]\n"
     ]
    }
   ],
   "source": [
    "print(x == y)\n",
    "\n",
    "# x'in ve y'nin elemanlarının birbirine eşit olup olmadığını sorguladık."
   ]
  },
  {
   "cell_type": "code",
   "execution_count": 11,
   "metadata": {},
   "outputs": [
    {
     "name": "stdout",
     "output_type": "stream",
     "text": [
      "[3 7 2 6 2 4]\n"
     ]
    }
   ],
   "source": [
    "y = np.random.randint(1, 10, size= 6)\n",
    "\n",
    "print(y)"
   ]
  },
  {
   "cell_type": "code",
   "execution_count": 12,
   "metadata": {},
   "outputs": [
    {
     "name": "stdout",
     "output_type": "stream",
     "text": [
      "False\n"
     ]
    },
    {
     "name": "stderr",
     "output_type": "stream",
     "text": [
      "C:\\Users\\Fallrytme\\AppData\\Local\\Temp\\ipykernel_10340\\1734864879.py:1: DeprecationWarning: elementwise comparison failed; this will raise an error in the future.\n",
      "  print(x == y)\n"
     ]
    }
   ],
   "source": [
    "print(x == y)\n",
    "\n",
    "# Eğer eleman sayıları aynı değilse bu şekilde hata alırız."
   ]
  },
  {
   "cell_type": "code",
   "execution_count": 13,
   "metadata": {},
   "outputs": [
    {
     "ename": "ValueError",
     "evalue": "operands could not be broadcast together with shapes (5,) (6,) ",
     "output_type": "error",
     "traceback": [
      "\u001b[1;31m---------------------------------------------------------------------------\u001b[0m",
      "\u001b[1;31mValueError\u001b[0m                                Traceback (most recent call last)",
      "Cell \u001b[1;32mIn [13], line 1\u001b[0m\n\u001b[1;32m----> 1\u001b[0m \u001b[39mprint\u001b[39m(x \u001b[39m+\u001b[39;49m y)\n",
      "\u001b[1;31mValueError\u001b[0m: operands could not be broadcast together with shapes (5,) (6,) "
     ]
    }
   ],
   "source": [
    "print(x + y)\n",
    "\n",
    "# Aynı şekilde işleme sokarsakta hata alırız. \n",
    "# Broadcasting konusunu daha sonra göstereceğim."
   ]
  },
  {
   "cell_type": "code",
   "execution_count": 14,
   "metadata": {},
   "outputs": [
    {
     "name": "stdout",
     "output_type": "stream",
     "text": [
      "False\n"
     ]
    }
   ],
   "source": [
    "print(np.array_equal(x, y))\n",
    "\n",
    "# x ve y'nin eşitliğini sorguladık ve False cevabı aldık."
   ]
  },
  {
   "cell_type": "code",
   "execution_count": 18,
   "metadata": {},
   "outputs": [
    {
     "name": "stdout",
     "output_type": "stream",
     "text": [
      "True\n",
      "False\n"
     ]
    }
   ],
   "source": [
    "a = np.array([1, 2, 3])\n",
    "b = np.array([1, 2, 3])\n",
    "c = np.array([1, 2, 4])\n",
    "\n",
    "print(np.array_equal(a, b))\n",
    "print(np.array_equal(a, c))\n",
    "\n",
    "# Tek bir False değer onların eşit olmadığını gösterir. Buradan da onun kanıtını gördük."
   ]
  },
  {
   "cell_type": "code",
   "execution_count": 19,
   "metadata": {},
   "outputs": [
    {
     "name": "stdout",
     "output_type": "stream",
     "text": [
      "[1.         1.         2.82842712 1.41421356 3.        ]\n"
     ]
    }
   ],
   "source": [
    "print(np.sqrt(x))\n",
    "\n",
    "# x'in elemanlarının kareköklerinden oluşan bir array oluşturduk."
   ]
  },
  {
   "cell_type": "code",
   "execution_count": 22,
   "metadata": {},
   "outputs": [
    {
     "name": "stdout",
     "output_type": "stream",
     "text": [
      "[  1   1 512   8 729]\n"
     ]
    }
   ],
   "source": [
    "print(np.power(x, 3))\n",
    "\n",
    "# x'in elemanlarının küpünden oluşan bir array oluşturduk."
   ]
  },
  {
   "cell_type": "code",
   "execution_count": 21,
   "metadata": {},
   "outputs": [
    {
     "name": "stdout",
     "output_type": "stream",
     "text": [
      "[2.71828183e+00 2.71828183e+00 2.98095799e+03 7.38905610e+00\n",
      " 8.10308393e+03]\n"
     ]
    }
   ],
   "source": [
    "print(np.exp(x))\n",
    "\n",
    "# x'in elemanlarının e^x halini yani doğal logaritmik hallerinden bir array oluşturduk."
   ]
  },
  {
   "cell_type": "code",
   "execution_count": 23,
   "metadata": {},
   "outputs": [
    {
     "name": "stdout",
     "output_type": "stream",
     "text": [
      "21\n"
     ]
    }
   ],
   "source": [
    "print(np.sum(x))\n",
    "\n",
    "# x'in elemanlarının toplamını aldık."
   ]
  },
  {
   "cell_type": "code",
   "execution_count": 24,
   "metadata": {},
   "outputs": [
    {
     "name": "stdout",
     "output_type": "stream",
     "text": [
      "[[2 2 4]\n",
      " [6 2 5]\n",
      " [5 6 8]]\n"
     ]
    }
   ],
   "source": [
    "x = np.random.randint(1, 10, size= 9).reshape(3, 3)\n",
    "\n",
    "print(x)"
   ]
  },
  {
   "cell_type": "code",
   "execution_count": 25,
   "metadata": {},
   "outputs": [
    {
     "name": "stdout",
     "output_type": "stream",
     "text": [
      "40\n"
     ]
    }
   ],
   "source": [
    "print(np.sum(x))\n",
    "\n",
    "# Çok boyutlu arraylarda da aynı şekilde toplama işlemi yapabiliyoruz."
   ]
  },
  {
   "cell_type": "code",
   "execution_count": 26,
   "metadata": {},
   "outputs": [
    {
     "name": "stdout",
     "output_type": "stream",
     "text": [
      "[13 10 17]\n"
     ]
    }
   ],
   "source": [
    "print(x.sum(axis= 0))\n",
    "\n",
    "# x'in sütunlarının toplamını ayrı ayrı alabiliyoruz."
   ]
  },
  {
   "cell_type": "code",
   "execution_count": 27,
   "metadata": {},
   "outputs": [
    {
     "name": "stdout",
     "output_type": "stream",
     "text": [
      "[ 8 13 19]\n"
     ]
    }
   ],
   "source": [
    "print(x.sum(axis= 1))\n",
    "\n",
    "# x'in satırlarının toplamını ayrı ayrı alabiliyoruz."
   ]
  },
  {
   "cell_type": "code",
   "execution_count": 28,
   "metadata": {},
   "outputs": [
    {
     "name": "stdout",
     "output_type": "stream",
     "text": [
      "2\n"
     ]
    }
   ],
   "source": [
    "print(x.min())\n",
    "\n",
    "# En küçük elemanı bulabiliyoruz."
   ]
  },
  {
   "cell_type": "code",
   "execution_count": 29,
   "metadata": {},
   "outputs": [
    {
     "name": "stdout",
     "output_type": "stream",
     "text": [
      "8\n"
     ]
    }
   ],
   "source": [
    "print(x.max())\n",
    "\n",
    "# En büyük elemanı bulabiliyoruz."
   ]
  },
  {
   "cell_type": "code",
   "execution_count": 30,
   "metadata": {},
   "outputs": [
    {
     "name": "stdout",
     "output_type": "stream",
     "text": [
      "0\n"
     ]
    }
   ],
   "source": [
    "print(x.argmin())\n",
    "\n",
    "# En küçük elemanın index sayısını bulabiliyoruz."
   ]
  },
  {
   "cell_type": "code",
   "execution_count": 31,
   "metadata": {},
   "outputs": [
    {
     "name": "stdout",
     "output_type": "stream",
     "text": [
      "8\n"
     ]
    }
   ],
   "source": [
    "print(x.argmax())\n",
    "\n",
    "# En büyük elemanın index sayısını bulabiliyoruz."
   ]
  },
  {
   "cell_type": "code",
   "execution_count": null,
   "metadata": {},
   "outputs": [],
   "source": []
  }
 ],
 "metadata": {
  "kernelspec": {
   "display_name": "Python 3.11.0 64-bit",
   "language": "python",
   "name": "python3"
  },
  "language_info": {
   "codemirror_mode": {
    "name": "ipython",
    "version": 3
   },
   "file_extension": ".py",
   "mimetype": "text/x-python",
   "name": "python",
   "nbconvert_exporter": "python",
   "pygments_lexer": "ipython3",
   "version": "3.11.0"
  },
  "orig_nbformat": 4,
  "vscode": {
   "interpreter": {
    "hash": "7c542dbbc07e6010b76b61de8a453dc04d29cd1fae7fbaa29851ecbad9aefb83"
   }
  }
 },
 "nbformat": 4,
 "nbformat_minor": 2
}
