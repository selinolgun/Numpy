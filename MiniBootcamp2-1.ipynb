{
  "cells": [
    {
      "cell_type": "markdown",
      "metadata": {
        "id": "XRxrk01-3rqH"
      },
      "source": [
        "#Numpy-Pandas-Matplotlib-Seaborn  "
      ]
    },
    {
      "cell_type": "markdown",
      "metadata": {
        "id": "DGLCFtW28jWP"
      },
      "source": [
        "## Numpy"
      ]
    },
    {
      "cell_type": "code",
      "execution_count": 1,
      "metadata": {
        "id": "f6pnlmn-8jUC"
      },
      "outputs": [],
      "source": [
        "import numpy as np"
      ]
    },
    {
      "cell_type": "code",
      "execution_count": 2,
      "metadata": {
        "id": "_1vfIGkJ8jRY"
      },
      "outputs": [],
      "source": [
        "a=[1,3,5,\"fatih\",\"sueda\",2j+5,3.5]"
      ]
    },
    {
      "cell_type": "code",
      "execution_count": 3,
      "metadata": {
        "id": "x6tXkCWQ8jOT"
      },
      "outputs": [],
      "source": [
        "a=[1,3,5,7,9]\n",
        "b=[2,4,6,8,10]"
      ]
    },
    {
      "cell_type": "code",
      "execution_count": 5,
      "metadata": {
        "colab": {
          "base_uri": "https://localhost:8080/"
        },
        "id": "UqM7dVEc8jL6",
        "outputId": "2c07a666-c97c-4b5a-d1f4-2a7098929d1d"
      },
      "outputs": [
        {
          "data": {
            "text/plain": [
              "list"
            ]
          },
          "execution_count": 5,
          "metadata": {},
          "output_type": "execute_result"
        }
      ],
      "source": [
        "type(a)"
      ]
    },
    {
      "cell_type": "code",
      "execution_count": 8,
      "metadata": {
        "colab": {
          "base_uri": "https://localhost:8080/"
        },
        "id": "OmyC84_R8jJT",
        "outputId": "c506c949-d3e8-42fb-cd51-c0cdfca2d7e6"
      },
      "outputs": [
        {
          "data": {
            "text/plain": [
              "[2, 12, 30, 56, 90]"
            ]
          },
          "execution_count": 8,
          "metadata": {},
          "output_type": "execute_result"
        }
      ],
      "source": [
        "ab=[]\n",
        "for i in range(len(a)):\n",
        "  ab.append(a[i]*b[i])\n",
        "\n",
        "ab"
      ]
    },
    {
      "cell_type": "code",
      "execution_count": 9,
      "metadata": {
        "id": "FV5cgNBn8jF4"
      },
      "outputs": [],
      "source": [
        "x=np.array([1,3,5,7,9])\n",
        "y=np.array(b)"
      ]
    },
    {
      "cell_type": "code",
      "execution_count": 10,
      "metadata": {
        "colab": {
          "base_uri": "https://localhost:8080/"
        },
        "id": "1188UhEmA1Lm",
        "outputId": "4695b11a-a5c2-46be-8a02-f2a1b20ee6b1"
      },
      "outputs": [
        {
          "data": {
            "text/plain": [
              "array([ 2, 12, 30, 56, 90])"
            ]
          },
          "execution_count": 10,
          "metadata": {},
          "output_type": "execute_result"
        }
      ],
      "source": [
        "x*y"
      ]
    },
    {
      "cell_type": "code",
      "execution_count": null,
      "metadata": {
        "id": "FjBRFEcmA4ih"
      },
      "outputs": [],
      "source": [
        "#0 > siyah\n",
        "#1> beyaz"
      ]
    },
    {
      "cell_type": "code",
      "execution_count": 12,
      "metadata": {
        "colab": {
          "base_uri": "https://localhost:8080/"
        },
        "id": "0UVPqWdUA4gC",
        "outputId": "d06ce6d4-2f0a-470d-b78b-ba234a3891f3"
      },
      "outputs": [
        {
          "data": {
            "text/plain": [
              "array([0, 0, 0, 0, 0, 0, 0, 0, 0, 0])"
            ]
          },
          "execution_count": 12,
          "metadata": {},
          "output_type": "execute_result"
        }
      ],
      "source": [
        "sifirlar=np.zeros(10,dtype=int)\n",
        "sifirlar"
      ]
    },
    {
      "cell_type": "code",
      "execution_count": 14,
      "metadata": {
        "colab": {
          "base_uri": "https://localhost:8080/"
        },
        "id": "zBa_yN06A4eC",
        "outputId": "5025f7d8-c003-44aa-989f-784287a8a423"
      },
      "outputs": [
        {
          "data": {
            "text/plain": [
              "array([1, 1, 1, 1, 1, 1, 1, 1, 1, 1])"
            ]
          },
          "execution_count": 14,
          "metadata": {},
          "output_type": "execute_result"
        }
      ],
      "source": [
        "birler=np.ones(10,dtype=int)\n",
        "birler"
      ]
    },
    {
      "cell_type": "code",
      "execution_count": 17,
      "metadata": {
        "colab": {
          "base_uri": "https://localhost:8080/"
        },
        "id": "Qm0uKjB6A4bq",
        "outputId": "7f7c04c0-372c-418f-ff41-99fe264cc33a"
      },
      "outputs": [
        {
          "data": {
            "text/plain": [
              "4"
            ]
          },
          "execution_count": 17,
          "metadata": {},
          "output_type": "execute_result"
        }
      ],
      "source": [
        "np.random.randint(5)"
      ]
    },
    {
      "cell_type": "code",
      "execution_count": 22,
      "metadata": {
        "colab": {
          "base_uri": "https://localhost:8080/"
        },
        "id": "P2jl4wmDA4ZC",
        "outputId": "fd267e8f-fdce-43a8-b37b-8d6f9540618b"
      },
      "outputs": [
        {
          "data": {
            "text/plain": [
              "77"
            ]
          },
          "execution_count": 22,
          "metadata": {},
          "output_type": "execute_result"
        }
      ],
      "source": [
        "np.random.randint(72,81)"
      ]
    },
    {
      "cell_type": "code",
      "execution_count": 23,
      "metadata": {
        "colab": {
          "base_uri": "https://localhost:8080/"
        },
        "id": "3b3T98RcA4WB",
        "outputId": "e2b4120a-5c39-468c-b78c-dd3b71f8e817"
      },
      "outputs": [
        {
          "data": {
            "text/plain": [
              "array([12, 62, 18, 37, 14, 68, 48, 73, 64,  2, 11, 38, 57, 75, 17,  1, 79,\n",
              "       41,  2, 57, 59, 13, 45, 63, 68, 68, 74, 63, 54, 74, 25,  6, 25, 67,\n",
              "        9, 25, 19, 23, 41, 22,  6, 22, 70, 71,  4, 12, 32, 21, 77, 79, 39,\n",
              "       35, 73, 62,  9, 48, 63, 61, 18,  4, 39, 78, 62, 12, 60, 69, 32, 46,\n",
              "       27, 34, 12, 32, 22, 44, 20,  4, 11, 17, 15, 28, 79, 55, 73, 28, 25,\n",
              "       29, 36, 37, 16, 25, 56, 73, 27, 47, 39,  1, 74, 56, 39, 77])"
            ]
          },
          "execution_count": 23,
          "metadata": {},
          "output_type": "execute_result"
        }
      ],
      "source": [
        "np.random.randint(1,81,100)"
      ]
    },
    {
      "cell_type": "code",
      "execution_count": 26,
      "metadata": {
        "colab": {
          "base_uri": "https://localhost:8080/"
        },
        "id": "v5wcy_BDA4Tq",
        "outputId": "330ac48c-5d02-4ef3-b6e4-5636bb65cd43"
      },
      "outputs": [
        {
          "data": {
            "text/plain": [
              "array([[ 8.53023242, 11.21231296, 11.4152028 ,  6.47165557],\n",
              "       [ 6.0367405 , 11.84628021,  8.38427478, 11.88785507],\n",
              "       [ 9.04096427,  4.57797583,  8.41779199, -0.07240262]])"
            ]
          },
          "execution_count": 26,
          "metadata": {},
          "output_type": "execute_result"
        }
      ],
      "source": [
        "b=np.random.normal(10,4,(3,4))\n",
        "b\n",
        "# (3,4) MxN"
      ]
    },
    {
      "cell_type": "code",
      "execution_count": 27,
      "metadata": {
        "colab": {
          "base_uri": "https://localhost:8080/"
        },
        "id": "re7lBbvFA4Q5",
        "outputId": "8382844e-5eab-4c22-b31a-32ed65a0b290"
      },
      "outputs": [
        {
          "data": {
            "text/plain": [
              "dtype('float64')"
            ]
          },
          "execution_count": 27,
          "metadata": {},
          "output_type": "execute_result"
        }
      ],
      "source": [
        "b.dtype"
      ]
    },
    {
      "cell_type": "code",
      "execution_count": 29,
      "metadata": {
        "colab": {
          "base_uri": "https://localhost:8080/"
        },
        "id": "D30EI5RaCQ81",
        "outputId": "0bfd1910-3be0-4447-b4a5-bcf4af8b8f56"
      },
      "outputs": [
        {
          "data": {
            "text/plain": [
              "array([[32, 72, 79],\n",
              "       [69, 16, 42],\n",
              "       [37, 45, 12]])"
            ]
          },
          "execution_count": 29,
          "metadata": {},
          "output_type": "execute_result"
        }
      ],
      "source": [
        "c=np.random.randint(1,81,(3,3))\n",
        "c"
      ]
    },
    {
      "cell_type": "code",
      "execution_count": 30,
      "metadata": {
        "colab": {
          "base_uri": "https://localhost:8080/"
        },
        "id": "XODGQI9VCQ5-",
        "outputId": "fe8501df-fe32-49bf-9e52-c3c741c804d5"
      },
      "outputs": [
        {
          "data": {
            "text/plain": [
              "2"
            ]
          },
          "execution_count": 30,
          "metadata": {},
          "output_type": "execute_result"
        }
      ],
      "source": [
        "c.ndim"
      ]
    },
    {
      "cell_type": "code",
      "execution_count": 31,
      "metadata": {
        "colab": {
          "base_uri": "https://localhost:8080/"
        },
        "id": "vz0arMiACQ3O",
        "outputId": "884c65e4-0be9-446c-8977-e5545e78406e"
      },
      "outputs": [
        {
          "data": {
            "text/plain": [
              "(3, 3)"
            ]
          },
          "execution_count": 31,
          "metadata": {},
          "output_type": "execute_result"
        }
      ],
      "source": [
        "c.shape"
      ]
    },
    {
      "cell_type": "code",
      "execution_count": 32,
      "metadata": {
        "colab": {
          "base_uri": "https://localhost:8080/"
        },
        "id": "A5Pe5iFTCQ0T",
        "outputId": "60d645bc-f2f4-4610-8583-d767af440bbb"
      },
      "outputs": [
        {
          "data": {
            "text/plain": [
              "dtype('int64')"
            ]
          },
          "execution_count": 32,
          "metadata": {},
          "output_type": "execute_result"
        }
      ],
      "source": [
        "c.dtype"
      ]
    },
    {
      "cell_type": "code",
      "execution_count": 33,
      "metadata": {
        "colab": {
          "base_uri": "https://localhost:8080/"
        },
        "id": "TlIAG62pCQx7",
        "outputId": "eb5fc0c6-ce2d-4d09-a1a5-84998defe345"
      },
      "outputs": [
        {
          "data": {
            "text/plain": [
              "['mehmet']"
            ]
          },
          "execution_count": 33,
          "metadata": {},
          "output_type": "execute_result"
        }
      ],
      "source": [
        "a=[\"mehmet\"]\n",
        "a"
      ]
    },
    {
      "cell_type": "code",
      "execution_count": 36,
      "metadata": {
        "colab": {
          "base_uri": "https://localhost:8080/",
          "height": 36
        },
        "id": "Fi5j_4LpD3gw",
        "outputId": "15e1490e-348a-4ec5-8397-1d6ec8c8a739"
      },
      "outputs": [
        {
          "data": {
            "application/vnd.google.colaboratory.intrinsic+json": {
              "type": "string"
            },
            "text/plain": [
              "'mehmet'"
            ]
          },
          "execution_count": 36,
          "metadata": {},
          "output_type": "execute_result"
        }
      ],
      "source": [
        "a[0]"
      ]
    },
    {
      "cell_type": "code",
      "execution_count": 34,
      "metadata": {
        "colab": {
          "base_uri": "https://localhost:8080/"
        },
        "id": "JfD5OZ-JDqZ0",
        "outputId": "df1e7819-de39-4739-9876-561f81238bab"
      },
      "outputs": [
        {
          "data": {
            "text/plain": [
              "list"
            ]
          },
          "execution_count": 34,
          "metadata": {},
          "output_type": "execute_result"
        }
      ],
      "source": [
        "type(a)"
      ]
    },
    {
      "cell_type": "code",
      "execution_count": 35,
      "metadata": {
        "colab": {
          "base_uri": "https://localhost:8080/"
        },
        "id": "5P6D0y3IDqVj",
        "outputId": "9885e563-e16e-41d4-cbb7-a5eeb62fac0c"
      },
      "outputs": [
        {
          "data": {
            "text/plain": [
              "str"
            ]
          },
          "execution_count": 35,
          "metadata": {},
          "output_type": "execute_result"
        }
      ],
      "source": [
        "type(a[0])"
      ]
    },
    {
      "cell_type": "code",
      "execution_count": 38,
      "metadata": {
        "colab": {
          "base_uri": "https://localhost:8080/"
        },
        "id": "a6jW9RyUDqSf",
        "outputId": "5c104dec-106b-4234-c810-305dc148f29d"
      },
      "outputs": [
        {
          "data": {
            "text/plain": [
              "array([2, 2, 1, 4, 4, 3, 4, 4, 1, 1, 1, 2, 1, 2, 4, 3, 4, 4])"
            ]
          },
          "execution_count": 38,
          "metadata": {},
          "output_type": "execute_result"
        }
      ],
      "source": [
        "c=np.random.randint(1,5,size=(18))\n",
        "c"
      ]
    },
    {
      "cell_type": "code",
      "execution_count": 40,
      "metadata": {
        "colab": {
          "base_uri": "https://localhost:8080/"
        },
        "id": "Jd_Y2QYLDqP7",
        "outputId": "77869788-b44e-47f4-fd9d-c6c3ddd3eac1"
      },
      "outputs": [
        {
          "data": {
            "text/plain": [
              "array([[2, 2, 1],\n",
              "       [4, 4, 3],\n",
              "       [4, 4, 1],\n",
              "       [1, 1, 2],\n",
              "       [1, 2, 4],\n",
              "       [3, 4, 4]])"
            ]
          },
          "execution_count": 40,
          "metadata": {},
          "output_type": "execute_result"
        }
      ],
      "source": [
        "c.reshape(6,3)"
      ]
    },
    {
      "cell_type": "code",
      "execution_count": 41,
      "metadata": {
        "colab": {
          "base_uri": "https://localhost:8080/"
        },
        "id": "AV2cVVMADqNK",
        "outputId": "9afe6416-e890-4d1c-dd03-ba90786c9bf9"
      },
      "outputs": [
        {
          "data": {
            "text/plain": [
              "array([[2, 2, 1, 4, 4, 3],\n",
              "       [4, 4, 1, 1, 1, 2],\n",
              "       [1, 2, 4, 3, 4, 4]])"
            ]
          },
          "execution_count": 41,
          "metadata": {},
          "output_type": "execute_result"
        }
      ],
      "source": [
        "c.reshape(-1,6)"
      ]
    },
    {
      "cell_type": "code",
      "execution_count": 42,
      "metadata": {
        "colab": {
          "base_uri": "https://localhost:8080/"
        },
        "id": "D_yPoQ6-DqKm",
        "outputId": "27f121db-6c13-46f7-d082-ffaffae7555d"
      },
      "outputs": [
        {
          "data": {
            "text/plain": [
              "array([[2, 2, 1],\n",
              "       [4, 4, 3],\n",
              "       [4, 4, 1],\n",
              "       [1, 1, 2],\n",
              "       [1, 2, 4],\n",
              "       [3, 4, 4]])"
            ]
          },
          "execution_count": 42,
          "metadata": {},
          "output_type": "execute_result"
        }
      ],
      "source": [
        "c.reshape(6,-1)"
      ]
    },
    {
      "cell_type": "code",
      "execution_count": 44,
      "metadata": {
        "colab": {
          "base_uri": "https://localhost:8080/"
        },
        "id": "IJtJ-yDJDqHv",
        "outputId": "b53c0f52-4ed4-4c81-99b0-9bca43d8b270"
      },
      "outputs": [
        {
          "data": {
            "text/plain": [
              "array([31, 84, 61, 86, 35, 95, 97, 96, 33, 14])"
            ]
          },
          "execution_count": 44,
          "metadata": {},
          "output_type": "execute_result"
        }
      ],
      "source": [
        "x=np.random.randint(100,size=10)\n",
        "x"
      ]
    },
    {
      "cell_type": "code",
      "execution_count": 46,
      "metadata": {
        "colab": {
          "base_uri": "https://localhost:8080/"
        },
        "id": "gZLAp9rFE_mq",
        "outputId": "1a8f566d-a149-48ed-efb7-2798834bec63"
      },
      "outputs": [
        {
          "data": {
            "text/plain": [
              "61"
            ]
          },
          "execution_count": 46,
          "metadata": {},
          "output_type": "execute_result"
        }
      ],
      "source": [
        "x[2]"
      ]
    },
    {
      "cell_type": "code",
      "execution_count": 48,
      "metadata": {
        "colab": {
          "base_uri": "https://localhost:8080/"
        },
        "id": "vqkjvAXFE_is",
        "outputId": "3e4088ba-b3bb-4538-8f54-24fcdb53422c"
      },
      "outputs": [
        {
          "data": {
            "text/plain": [
              "33"
            ]
          },
          "execution_count": 48,
          "metadata": {},
          "output_type": "execute_result"
        }
      ],
      "source": [
        "x[-2]"
      ]
    },
    {
      "cell_type": "code",
      "execution_count": 49,
      "metadata": {
        "id": "1W56HP3XE_fS"
      },
      "outputs": [],
      "source": [
        "s=\"aliahmet\""
      ]
    },
    {
      "cell_type": "code",
      "execution_count": 50,
      "metadata": {
        "colab": {
          "base_uri": "https://localhost:8080/",
          "height": 36
        },
        "id": "AN7fjIX_E_ce",
        "outputId": "01be5234-ca19-4a6e-f2d6-045462aad26f"
      },
      "outputs": [
        {
          "data": {
            "application/vnd.google.colaboratory.intrinsic+json": {
              "type": "string"
            },
            "text/plain": [
              "'i'"
            ]
          },
          "execution_count": 50,
          "metadata": {},
          "output_type": "execute_result"
        }
      ],
      "source": [
        "s[2]"
      ]
    },
    {
      "cell_type": "code",
      "execution_count": 51,
      "metadata": {
        "colab": {
          "base_uri": "https://localhost:8080/",
          "height": 36
        },
        "id": "ZSN0iMHjE_Z2",
        "outputId": "f812e4c7-c31f-4aba-f7a0-c161b96b6d2f"
      },
      "outputs": [
        {
          "data": {
            "application/vnd.google.colaboratory.intrinsic+json": {
              "type": "string"
            },
            "text/plain": [
              "'aliahmet'"
            ]
          },
          "execution_count": 51,
          "metadata": {},
          "output_type": "execute_result"
        }
      ],
      "source": [
        "s[::]"
      ]
    },
    {
      "cell_type": "code",
      "execution_count": 52,
      "metadata": {
        "colab": {
          "base_uri": "https://localhost:8080/",
          "height": 36
        },
        "id": "9Io1okHKE_XN",
        "outputId": "81a8fc66-5aaa-41d0-b0c5-7fa307a240b2"
      },
      "outputs": [
        {
          "data": {
            "application/vnd.google.colaboratory.intrinsic+json": {
              "type": "string"
            },
            "text/plain": [
              "'ali'"
            ]
          },
          "execution_count": 52,
          "metadata": {},
          "output_type": "execute_result"
        }
      ],
      "source": [
        "s[:3]"
      ]
    },
    {
      "cell_type": "code",
      "execution_count": 53,
      "metadata": {
        "colab": {
          "base_uri": "https://localhost:8080/",
          "height": 36
        },
        "id": "VEXsmsn5E_Uh",
        "outputId": "e4c8cca2-f8c5-4076-e6c0-5b2328dd48d5"
      },
      "outputs": [
        {
          "data": {
            "application/vnd.google.colaboratory.intrinsic+json": {
              "type": "string"
            },
            "text/plain": [
              "'temhaila'"
            ]
          },
          "execution_count": 53,
          "metadata": {},
          "output_type": "execute_result"
        }
      ],
      "source": [
        "s[::-1]"
      ]
    },
    {
      "cell_type": "code",
      "execution_count": 55,
      "metadata": {
        "colab": {
          "base_uri": "https://localhost:8080/"
        },
        "id": "ZILiyMBcFoe9",
        "outputId": "2acf831c-6d30-4af5-a4bd-b623564ca0f5"
      },
      "outputs": [
        {
          "data": {
            "text/plain": [
              "array([[8, 7, 3, 4, 6],\n",
              "       [3, 8, 3, 9, 3],\n",
              "       [8, 1, 2, 6, 6]])"
            ]
          },
          "execution_count": 55,
          "metadata": {},
          "output_type": "execute_result"
        }
      ],
      "source": [
        "m=np.random.randint(10,size=(3,5))\n",
        "m"
      ]
    },
    {
      "cell_type": "code",
      "execution_count": 56,
      "metadata": {
        "colab": {
          "base_uri": "https://localhost:8080/"
        },
        "id": "T764lUX5Focd",
        "outputId": "05f62dc9-8236-4a8a-8795-de0a647fabc9"
      },
      "outputs": [
        {
          "data": {
            "text/plain": [
              "6"
            ]
          },
          "execution_count": 56,
          "metadata": {},
          "output_type": "execute_result"
        }
      ],
      "source": [
        "m[2,3]"
      ]
    },
    {
      "cell_type": "code",
      "execution_count": 57,
      "metadata": {
        "colab": {
          "base_uri": "https://localhost:8080/"
        },
        "id": "z5NF9yLbFoaG",
        "outputId": "a5be94f1-d567-4bf5-8897-4b7d9152e66b"
      },
      "outputs": [
        {
          "data": {
            "text/plain": [
              "9"
            ]
          },
          "execution_count": 57,
          "metadata": {},
          "output_type": "execute_result"
        }
      ],
      "source": [
        "m[1,3]"
      ]
    },
    {
      "cell_type": "code",
      "execution_count": 58,
      "metadata": {
        "id": "5vk6H10eFoXs"
      },
      "outputs": [],
      "source": [
        "m[1,3]=72"
      ]
    },
    {
      "cell_type": "code",
      "execution_count": 59,
      "metadata": {
        "colab": {
          "base_uri": "https://localhost:8080/"
        },
        "id": "V18bVg_HFoVL",
        "outputId": "5afa1ea3-d183-4690-ea0d-2dcf10020e11"
      },
      "outputs": [
        {
          "data": {
            "text/plain": [
              "array([[ 8,  7,  3,  4,  6],\n",
              "       [ 3,  8,  3, 72,  3],\n",
              "       [ 8,  1,  2,  6,  6]])"
            ]
          },
          "execution_count": 59,
          "metadata": {},
          "output_type": "execute_result"
        }
      ],
      "source": [
        "m"
      ]
    },
    {
      "cell_type": "code",
      "execution_count": 60,
      "metadata": {
        "colab": {
          "base_uri": "https://localhost:8080/"
        },
        "id": "0xmuh_CIFoSb",
        "outputId": "dd13229e-a6c6-4668-8785-06b495f88865"
      },
      "outputs": [
        {
          "data": {
            "text/plain": [
              "array([[ 8,  7,  3,  4,  6],\n",
              "       [ 3,  8,  3, 72,  3]])"
            ]
          },
          "execution_count": 60,
          "metadata": {},
          "output_type": "execute_result"
        }
      ],
      "source": [
        "m[:2,:]"
      ]
    },
    {
      "cell_type": "code",
      "execution_count": 61,
      "metadata": {
        "colab": {
          "base_uri": "https://localhost:8080/"
        },
        "id": "QygxhDg3GRrl",
        "outputId": "67f791db-e276-4351-fdd9-00e8153bcc03"
      },
      "outputs": [
        {
          "data": {
            "text/plain": [
              "array([[72,  3],\n",
              "       [ 6,  6]])"
            ]
          },
          "execution_count": 61,
          "metadata": {},
          "output_type": "execute_result"
        }
      ],
      "source": [
        "m[1:,3:]#72-3"
      ]
    },
    {
      "cell_type": "code",
      "execution_count": 64,
      "metadata": {
        "colab": {
          "base_uri": "https://localhost:8080/"
        },
        "id": "9D0Hd_aSGeUh",
        "outputId": "c9dd4633-aeae-46c0-f574-c56a2bb03c4c"
      },
      "outputs": [
        {
          "data": {
            "text/plain": [
              "array([ 0,  5, 10, 15, 20, 25, 30, 35, 40, 45])"
            ]
          },
          "execution_count": 64,
          "metadata": {},
          "output_type": "execute_result"
        }
      ],
      "source": [
        "x=np.arange(0,50,5)\n",
        "x"
      ]
    },
    {
      "cell_type": "code",
      "execution_count": 67,
      "metadata": {
        "colab": {
          "base_uri": "https://localhost:8080/"
        },
        "id": "vF01OklnGRos",
        "outputId": "8dfe108a-6360-4dfb-e223-1d6dae2946ee"
      },
      "outputs": [
        {
          "data": {
            "text/plain": [
              "array([ 0, 10, 20])"
            ]
          },
          "execution_count": 67,
          "metadata": {},
          "output_type": "execute_result"
        }
      ],
      "source": [
        "#fancy index\n",
        "a=[0,2,4]\n",
        "x[a]"
      ]
    },
    {
      "cell_type": "code",
      "execution_count": 69,
      "metadata": {
        "colab": {
          "base_uri": "https://localhost:8080/"
        },
        "id": "K-8vdh9XGRmW",
        "outputId": "27b39a13-576f-4e7b-df85-b887505b31ea"
      },
      "outputs": [
        {
          "data": {
            "text/plain": [
              "array([ 0,  1,  2,  3,  4,  5,  6,  7,  8,  9, 10, 11, 12, 13, 14, 15, 16,\n",
              "       17, 18, 19, 20])"
            ]
          },
          "execution_count": 69,
          "metadata": {},
          "output_type": "execute_result"
        }
      ],
      "source": [
        "y=np.array(range(21))\n",
        "y"
      ]
    },
    {
      "cell_type": "code",
      "execution_count": null,
      "metadata": {
        "id": "BQfwgYYnGRjY"
      },
      "outputs": [],
      "source": [
        "for i in y:\n",
        "  if i <10:\n",
        "    print(i)"
      ]
    },
    {
      "cell_type": "code",
      "execution_count": 71,
      "metadata": {
        "colab": {
          "base_uri": "https://localhost:8080/"
        },
        "id": "Y2SyLBR9GRgk",
        "outputId": "db650e5a-76eb-46e3-b3cd-f7c6c4734f83"
      },
      "outputs": [
        {
          "data": {
            "text/plain": [
              "array([ True,  True,  True,  True,  True,  True,  True,  True,  True,\n",
              "        True, False, False, False, False, False, False, False, False,\n",
              "       False, False, False])"
            ]
          },
          "execution_count": 71,
          "metadata": {},
          "output_type": "execute_result"
        }
      ],
      "source": [
        "y<10"
      ]
    },
    {
      "cell_type": "code",
      "execution_count": 72,
      "metadata": {
        "colab": {
          "base_uri": "https://localhost:8080/"
        },
        "id": "48sjZKxLIBAh",
        "outputId": "44aa4d64-ebf8-4285-8bf0-8184c09bc2f0"
      },
      "outputs": [
        {
          "data": {
            "text/plain": [
              "array([[ 0,  1,  2,  3,  4,  5,  6,  7,  8,  9, 10, 11, 12, 13, 14, 15,\n",
              "        16, 17, 18, 19, 20]])"
            ]
          },
          "execution_count": 72,
          "metadata": {},
          "output_type": "execute_result"
        }
      ],
      "source": [
        "y[True]"
      ]
    },
    {
      "cell_type": "code",
      "execution_count": 73,
      "metadata": {
        "colab": {
          "base_uri": "https://localhost:8080/"
        },
        "id": "wTnH4MK9IA9l",
        "outputId": "3abf6bb3-199d-4166-e576-b2a982adf04b"
      },
      "outputs": [
        {
          "data": {
            "text/plain": [
              "array([0, 1, 2, 3, 4, 5, 6, 7, 8, 9])"
            ]
          },
          "execution_count": 73,
          "metadata": {},
          "output_type": "execute_result"
        }
      ],
      "source": [
        "y[y<10]"
      ]
    },
    {
      "cell_type": "code",
      "execution_count": 74,
      "metadata": {
        "colab": {
          "base_uri": "https://localhost:8080/"
        },
        "id": "BZUia0QcIA6q",
        "outputId": "8d3c44ad-5f83-4736-908a-94cb441822bb"
      },
      "outputs": [
        {
          "data": {
            "text/plain": [
              "array([11, 12, 13, 14, 15, 16, 17, 18, 19, 20])"
            ]
          },
          "execution_count": 74,
          "metadata": {},
          "output_type": "execute_result"
        }
      ],
      "source": [
        "y[y>10]"
      ]
    },
    {
      "cell_type": "code",
      "execution_count": 75,
      "metadata": {
        "colab": {
          "base_uri": "https://localhost:8080/"
        },
        "id": "ndGQ41ulIWvu",
        "outputId": "e7168d6f-c911-4eb0-c444-f3240c12e611"
      },
      "outputs": [
        {
          "data": {
            "text/plain": [
              "array([  0,   1,   4,   9,  16,  25,  36,  49,  64,  81, 100, 121, 144,\n",
              "       169, 196, 225, 256, 289, 324, 361, 400])"
            ]
          },
          "execution_count": 75,
          "metadata": {},
          "output_type": "execute_result"
        }
      ],
      "source": [
        "y**2"
      ]
    },
    {
      "cell_type": "code",
      "execution_count": 76,
      "metadata": {
        "colab": {
          "base_uri": "https://localhost:8080/"
        },
        "id": "kj2sYGAmIWsH",
        "outputId": "f588fd93-3f58-486c-85df-8030a18d4383"
      },
      "outputs": [
        {
          "data": {
            "text/plain": [
              "array([-1,  0,  1,  2,  3,  4,  5,  6,  7,  8,  9, 10, 11, 12, 13, 14, 15,\n",
              "       16, 17, 18, 19])"
            ]
          },
          "execution_count": 76,
          "metadata": {},
          "output_type": "execute_result"
        }
      ],
      "source": [
        "y-1"
      ]
    },
    {
      "cell_type": "code",
      "execution_count": 77,
      "metadata": {
        "colab": {
          "base_uri": "https://localhost:8080/"
        },
        "id": "3-Ba5ZYnIWpw",
        "outputId": "93f58372-b761-4a38-bf40-7a8609e01fd7"
      },
      "outputs": [
        {
          "data": {
            "text/plain": [
              "210"
            ]
          },
          "execution_count": 77,
          "metadata": {},
          "output_type": "execute_result"
        }
      ],
      "source": [
        "y.sum()"
      ]
    },
    {
      "cell_type": "code",
      "execution_count": 78,
      "metadata": {
        "colab": {
          "base_uri": "https://localhost:8080/"
        },
        "id": "Kl80R0p9IWm8",
        "outputId": "116be29c-5802-4e91-9242-7673d066bbb9"
      },
      "outputs": [
        {
          "data": {
            "text/plain": [
              "10.0"
            ]
          },
          "execution_count": 78,
          "metadata": {},
          "output_type": "execute_result"
        }
      ],
      "source": [
        "y.mean()"
      ]
    },
    {
      "cell_type": "code",
      "execution_count": 80,
      "metadata": {
        "colab": {
          "base_uri": "https://localhost:8080/"
        },
        "id": "NMFhm53BIWkB",
        "outputId": "44ff54bf-f887-41b4-c3af-236a1e7bf2a3"
      },
      "outputs": [
        {
          "data": {
            "text/plain": [
              "20"
            ]
          },
          "execution_count": 80,
          "metadata": {},
          "output_type": "execute_result"
        }
      ],
      "source": [
        "y.max()"
      ]
    },
    {
      "cell_type": "code",
      "execution_count": 81,
      "metadata": {
        "colab": {
          "base_uri": "https://localhost:8080/"
        },
        "id": "WLJ3YWQ_Iryl",
        "outputId": "302d72ea-2144-4d0b-f023-135f70d9ae83"
      },
      "outputs": [
        {
          "data": {
            "text/plain": [
              "0"
            ]
          },
          "execution_count": 81,
          "metadata": {},
          "output_type": "execute_result"
        }
      ],
      "source": [
        "y.min()"
      ]
    },
    {
      "cell_type": "code",
      "execution_count": null,
      "metadata": {
        "id": "RZVHIeeOIrvg"
      },
      "outputs": [],
      "source": [
        "# 5x1+3x2=72\n",
        "# 3x1+9x2=81"
      ]
    },
    {
      "cell_type": "code",
      "execution_count": 84,
      "metadata": {
        "id": "MOJMJ96bIrsI"
      },
      "outputs": [],
      "source": [
        "a=np.array([[5,3],[3,9]])\n",
        "b=np.array([72,81])"
      ]
    },
    {
      "cell_type": "code",
      "execution_count": 85,
      "metadata": {
        "colab": {
          "base_uri": "https://localhost:8080/"
        },
        "id": "3ntrx8v3IrpE",
        "outputId": "90505734-e137-44aa-ce33-ac20675d1833"
      },
      "outputs": [
        {
          "data": {
            "text/plain": [
              "array([[5, 3],\n",
              "       [3, 9]])"
            ]
          },
          "execution_count": 85,
          "metadata": {},
          "output_type": "execute_result"
        }
      ],
      "source": [
        "a"
      ]
    },
    {
      "cell_type": "code",
      "execution_count": 86,
      "metadata": {
        "colab": {
          "base_uri": "https://localhost:8080/"
        },
        "id": "1Hq-IpOkJdPH",
        "outputId": "7599e10d-f8a4-457a-b4a4-2b03d33528fd"
      },
      "outputs": [
        {
          "data": {
            "text/plain": [
              "array([72, 81])"
            ]
          },
          "execution_count": 86,
          "metadata": {},
          "output_type": "execute_result"
        }
      ],
      "source": [
        "b"
      ]
    },
    {
      "cell_type": "code",
      "execution_count": 87,
      "metadata": {
        "colab": {
          "base_uri": "https://localhost:8080/"
        },
        "id": "CiBx6oCIJdZF",
        "outputId": "eaac2654-4a6d-4faf-b1de-b4f7d71ff8ae"
      },
      "outputs": [
        {
          "data": {
            "text/plain": [
              "array([11.25,  5.25])"
            ]
          },
          "execution_count": 87,
          "metadata": {},
          "output_type": "execute_result"
        }
      ],
      "source": [
        "xs=np.linalg.solve(a,b)\n",
        "xs"
      ]
    },
    {
      "cell_type": "code",
      "execution_count": 88,
      "metadata": {
        "id": "ZbzoJ-_nJjVG"
      },
      "outputs": [],
      "source": [
        "x1,x2=xs"
      ]
    },
    {
      "cell_type": "code",
      "execution_count": 89,
      "metadata": {
        "colab": {
          "base_uri": "https://localhost:8080/"
        },
        "id": "bk46HW7WJjSi",
        "outputId": "4589ffa8-3ef6-42fe-ab53-0a1be7ac145e"
      },
      "outputs": [
        {
          "data": {
            "text/plain": [
              "11.25"
            ]
          },
          "execution_count": 89,
          "metadata": {},
          "output_type": "execute_result"
        }
      ],
      "source": [
        "x1"
      ]
    },
    {
      "cell_type": "code",
      "execution_count": 90,
      "metadata": {
        "colab": {
          "base_uri": "https://localhost:8080/"
        },
        "id": "hczRVi5BJjPz",
        "outputId": "1d40e854-fca9-4ae4-9578-be885a89836a"
      },
      "outputs": [
        {
          "data": {
            "text/plain": [
              "5.25"
            ]
          },
          "execution_count": 90,
          "metadata": {},
          "output_type": "execute_result"
        }
      ],
      "source": [
        "x2"
      ]
    },
    {
      "cell_type": "code",
      "execution_count": null,
      "metadata": {
        "id": "vq23SZTvJjM4"
      },
      "outputs": [],
      "source": []
    },
    {
      "cell_type": "code",
      "execution_count": null,
      "metadata": {
        "id": "obcbA-m2J626"
      },
      "outputs": [],
      "source": []
    },
    {
      "cell_type": "code",
      "execution_count": null,
      "metadata": {
        "id": "rZET6JY6J6wN"
      },
      "outputs": [],
      "source": []
    }
  ],
  "metadata": {
    "accelerator": "GPU",
    "colab": {
      "provenance": []
    },
    "gpuClass": "standard",
    "kernelspec": {
      "display_name": "Python 3.11.0 64-bit",
      "language": "python",
      "name": "python3"
    },
    "language_info": {
      "name": "python",
      "version": "3.11.0"
    },
    "vscode": {
      "interpreter": {
        "hash": "7c542dbbc07e6010b76b61de8a453dc04d29cd1fae7fbaa29851ecbad9aefb83"
      }
    }
  },
  "nbformat": 4,
  "nbformat_minor": 0
}
