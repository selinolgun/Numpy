{
 "cells": [
  {
   "cell_type": "code",
   "execution_count": 1,
   "metadata": {},
   "outputs": [
    {
     "name": "stdout",
     "output_type": "stream",
     "text": [
      "[3 9 8]\n",
      "<class 'numpy.ndarray'>\n"
     ]
    }
   ],
   "source": [
    "import numpy as np\n",
    "\n",
    "x = np.array([3, 9, 8])\n",
    "\n",
    "print(x)\n",
    "print(type(x))\n",
    "\n",
    "# Bu yöntemle küçük boyutlu ndarrayleri oluşturmak mümkün ancak büyük boyutlular için farklı bir yöntem kullanıyoruz."
   ]
  },
  {
   "cell_type": "code",
   "execution_count": 2,
   "metadata": {},
   "outputs": [
    {
     "name": "stdout",
     "output_type": "stream",
     "text": [
      "[0. 0. 0. 0.]\n",
      "[1. 1. 1. 1.]\n"
     ]
    }
   ],
   "source": [
    "# np.zeros ve np.ones\n",
    "\n",
    "x1 = np.zeros(4)\n",
    "\n",
    "print(x1)\n",
    "\n",
    "x2 = np.ones(4)\n",
    "\n",
    "print(x2)\n",
    "\n",
    "# np.zeros ile 0'lardan oluşan bir array, np.ones ile de 1'lerden oluşan array oluşturabiliyoruz."
   ]
  },
  {
   "cell_type": "code",
   "execution_count": 3,
   "metadata": {},
   "outputs": [
    {
     "name": "stdout",
     "output_type": "stream",
     "text": [
      "float64\n",
      "float64\n"
     ]
    }
   ],
   "source": [
    "print(x1.dtype)\n",
    "print(x2.dtype)\n",
    "\n",
    "# zeros ve ones bize float64 veri tipi gönderir."
   ]
  },
  {
   "cell_type": "code",
   "execution_count": 4,
   "metadata": {},
   "outputs": [
    {
     "name": "stdout",
     "output_type": "stream",
     "text": [
      "[[[0 0 0 0]\n",
      "  [0 0 0 0]\n",
      "  [0 0 0 0]]\n",
      "\n",
      " [[0 0 0 0]\n",
      "  [0 0 0 0]\n",
      "  [0 0 0 0]]]\n",
      "int32\n"
     ]
    }
   ],
   "source": [
    "y1 = np.zeros((2, 3, 4), dtype= np.int32)\n",
    "\n",
    "print(y1)\n",
    "print(y1.dtype)\n",
    "\n",
    "# Girdiğimiz parametrelere bakacak olursak \n",
    "# (2, 3, 4) = 2 adet 3 satırlı 4 sütunlu matrisleri int32 veri tipiyle oluşturmasını istedik."
   ]
  },
  {
   "cell_type": "code",
   "execution_count": 5,
   "metadata": {},
   "outputs": [
    {
     "name": "stdout",
     "output_type": "stream",
     "text": [
      "[[1. 1.]\n",
      " [1. 1.]\n",
      " [1. 1.]]\n"
     ]
    }
   ],
   "source": [
    "y2 = np.ones((3, 2))\n",
    "\n",
    "print(y2)\n",
    "\n",
    "# Aynılarını ones içinde kullanabiliriz."
   ]
  },
  {
   "cell_type": "code",
   "execution_count": 7,
   "metadata": {},
   "outputs": [
    {
     "name": "stdout",
     "output_type": "stream",
     "text": [
      "[[10 10 10]\n",
      " [10 10 10]]\n",
      "int32\n"
     ]
    }
   ],
   "source": [
    "# np.full()\n",
    "\n",
    "x = np.full((2, 3), 10)\n",
    "\n",
    "print(x)\n",
    "print(x.dtype)\n",
    "\n",
    "# zeros ve ones'tan farklı olarak full() metodu ile sabit bir değerle matris oluşturabiliriz.\n",
    "# Biz veri tipini ne girersek data type'ta o şekilde gerçekleşir."
   ]
  },
  {
   "cell_type": "code",
   "execution_count": 8,
   "metadata": {},
   "outputs": [
    {
     "name": "stdout",
     "output_type": "stream",
     "text": [
      "[[10. 10. 10.]\n",
      " [10. 10. 10.]]\n",
      "float64\n"
     ]
    }
   ],
   "source": [
    "x = np.full((2, 3), 10.0)\n",
    "\n",
    "print(x)\n",
    "print(x.dtype)\n",
    "\n",
    "# Burada da görebiliriz. Float girdiğimiz için float64 çıktısı aldık."
   ]
  },
  {
   "cell_type": "code",
   "execution_count": 9,
   "metadata": {},
   "outputs": [
    {
     "name": "stdout",
     "output_type": "stream",
     "text": [
      "[[10. 10. 10.]\n",
      " [10. 10. 10.]]\n",
      "[[10. 10. 10.]\n",
      " [10. 10. 10.]]\n"
     ]
    }
   ],
   "source": [
    "y = 10.0 * np.ones((2,3))\n",
    "z = 10.0 + np.zeros((2,3))\n",
    "\n",
    "print(y)\n",
    "print(z)\n",
    "\n",
    "# Bu şekilde de full'de yapacağımız işlemleri yaparak aynı sonuca ulaşabiliriz.."
   ]
  },
  {
   "cell_type": "code",
   "execution_count": 11,
   "metadata": {},
   "outputs": [
    {
     "name": "stdout",
     "output_type": "stream",
     "text": [
      "[[1. 1.]\n",
      " [1. 1.]]\n"
     ]
    }
   ],
   "source": [
    "# np.empty()\n",
    "\n",
    "x = np.empty((2,2))\n",
    "\n",
    "print(x)\n",
    "\n",
    "# Burada görülen değerler keyfi değerlerdir. Aslında arrayimiz boştur."
   ]
  },
  {
   "cell_type": "code",
   "execution_count": 12,
   "metadata": {},
   "outputs": [
    {
     "name": "stdout",
     "output_type": "stream",
     "text": [
      "[[3. 3.]\n",
      " [3. 3.]]\n"
     ]
    }
   ],
   "source": [
    "x.fill(3)\n",
    "\n",
    "print(x)\n",
    "\n",
    "# fill() metoduyla empty array'imizi doldurabiliriz."
   ]
  },
  {
   "cell_type": "code",
   "execution_count": 14,
   "metadata": {},
   "outputs": [
    {
     "name": "stdout",
     "output_type": "stream",
     "text": [
      "[[1. 0. 0. 0.]\n",
      " [0. 1. 0. 0.]\n",
      " [0. 0. 1. 0.]\n",
      " [0. 0. 0. 1.]]\n"
     ]
    }
   ],
   "source": [
    "# np.eye()\n",
    "# Birim matris oluşturmamızı sağlar.\n",
    "\n",
    "x = np.eye(4)\n",
    "\n",
    "print(x)\n",
    "\n",
    "# İkinci bir parametre girmedik çünkü birim matrisler kare olmak zorundadır.\n",
    "# Birim matris diyagonal elemanları 1 , diğer elemanları 0 olan matristir."
   ]
  },
  {
   "cell_type": "code",
   "execution_count": 16,
   "metadata": {},
   "outputs": [
    {
     "name": "stdout",
     "output_type": "stream",
     "text": [
      "[[1. 0. 0. 0.]\n",
      " [0. 1. 0. 0.]\n",
      " [0. 0. 1. 0.]\n",
      " [0. 0. 0. 1.]\n",
      " [0. 0. 0. 0.]]\n"
     ]
    }
   ],
   "source": [
    "y = np.eye(5, 4)\n",
    "\n",
    "print(y)\n",
    "\n",
    "# Kare matris vermezseniz son satırdaki hata oluşur ve istediğimiz birim matrise ulaşamayız."
   ]
  },
  {
   "cell_type": "code",
   "execution_count": 22,
   "metadata": {},
   "outputs": [
    {
     "name": "stdout",
     "output_type": "stream",
     "text": [
      "[[1. 0. 0. 0. 0. 0.]\n",
      " [0. 1. 0. 0. 0. 0.]\n",
      " [0. 0. 1. 0. 0. 0.]\n",
      " [0. 0. 0. 1. 0. 0.]\n",
      " [0. 0. 0. 0. 1. 0.]\n",
      " [0. 0. 0. 0. 0. 1.]]\n",
      "\n",
      "[[0. 1. 0. 0. 0. 0.]\n",
      " [0. 0. 1. 0. 0. 0.]\n",
      " [0. 0. 0. 1. 0. 0.]\n",
      " [0. 0. 0. 0. 1. 0.]\n",
      " [0. 0. 0. 0. 0. 1.]\n",
      " [0. 0. 0. 0. 0. 0.]]\n",
      "\n",
      "[[0. 0. 0. 0. 0. 0.]\n",
      " [0. 0. 0. 0. 0. 0.]\n",
      " [1. 0. 0. 0. 0. 0.]\n",
      " [0. 1. 0. 0. 0. 0.]\n",
      " [0. 0. 1. 0. 0. 0.]\n",
      " [0. 0. 0. 1. 0. 0.]]\n"
     ]
    }
   ],
   "source": [
    "x = np.eye(6)\n",
    "\n",
    "print(x)\n",
    "\n",
    "print()\n",
    "\n",
    "y = np.eye(6, k= 1)\n",
    "\n",
    "print(y)\n",
    "\n",
    "print()\n",
    "\n",
    "z = np.eye(6, k= -2)\n",
    "\n",
    "print(z)\n",
    "\n",
    "# k değerinin ne işe yaradığını bu örneklerle görebilirsiniz.\n",
    "# Pozitif girdiğimizde birim matrisin başlangıcını sağa doğru kaydırır.\n",
    "# Negatif girdiğimizde birim matrisin başlangıcını aşağı doğru kaydırır."
   ]
  },
  {
   "cell_type": "code",
   "execution_count": 23,
   "metadata": {},
   "outputs": [
    {
     "name": "stdout",
     "output_type": "stream",
     "text": [
      "[[1. 0. 0. 0. 0.]\n",
      " [0. 1. 0. 0. 0.]\n",
      " [0. 0. 1. 0. 0.]\n",
      " [0. 0. 0. 1. 0.]\n",
      " [0. 0. 0. 0. 1.]]\n"
     ]
    }
   ],
   "source": [
    "x = np.identity(5)\n",
    "\n",
    "print(x)\n",
    "\n",
    "# identity() metoduyla da birim matris oluşturulabilir."
   ]
  },
  {
   "cell_type": "code",
   "execution_count": 24,
   "metadata": {},
   "outputs": [
    {
     "name": "stdout",
     "output_type": "stream",
     "text": [
      "[[ 4  0  0  0]\n",
      " [ 0  7  0  0]\n",
      " [ 0  0 11  0]\n",
      " [ 0  0  0  3]]\n"
     ]
    }
   ],
   "source": [
    "# np.diag()\n",
    "\n",
    "x = np.diag([4, 7, 11, 3])\n",
    "\n",
    "print(x)\n",
    "\n",
    "# Verdiğimiz elemanları diyagonal olarak yerleştirir."
   ]
  },
  {
   "cell_type": "code",
   "execution_count": null,
   "metadata": {},
   "outputs": [],
   "source": []
  }
 ],
 "metadata": {
  "kernelspec": {
   "display_name": "Python 3.11.0 64-bit",
   "language": "python",
   "name": "python3"
  },
  "language_info": {
   "codemirror_mode": {
    "name": "ipython",
    "version": 3
   },
   "file_extension": ".py",
   "mimetype": "text/x-python",
   "name": "python",
   "nbconvert_exporter": "python",
   "pygments_lexer": "ipython3",
   "version": "3.11.0"
  },
  "orig_nbformat": 4,
  "vscode": {
   "interpreter": {
    "hash": "7c542dbbc07e6010b76b61de8a453dc04d29cd1fae7fbaa29851ecbad9aefb83"
   }
  }
 },
 "nbformat": 4,
 "nbformat_minor": 2
}
