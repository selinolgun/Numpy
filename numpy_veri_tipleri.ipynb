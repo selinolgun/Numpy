{
 "cells": [
  {
   "cell_type": "code",
   "execution_count": 1,
   "metadata": {},
   "outputs": [
    {
     "name": "stdout",
     "output_type": "stream",
     "text": [
      "[3. 4. 5.]\n",
      "float64\n"
     ]
    }
   ],
   "source": [
    "import numpy as np\n",
    "\n",
    "x = np.array([3, 4.0, 5])\n",
    "\n",
    "print(x)\n",
    "print(x.dtype)\n",
    "\n",
    "# Bir adet float değerimiz olduğu için dtype ile float64 çıktısını aldık. \n",
    "# Bütün elemanlar float64'e dönüştürüldü."
   ]
  },
  {
   "cell_type": "code",
   "execution_count": 2,
   "metadata": {},
   "outputs": [
    {
     "name": "stdout",
     "output_type": "stream",
     "text": [
      "[3 4 5]\n",
      "int32\n"
     ]
    }
   ],
   "source": [
    "# 5 temel sayı veri tipimiz var.\n",
    "# Bunlar bool, int, float, complex, uint'dir.\n",
    "\n",
    "x = np.array([3, 4, 5])\n",
    "\n",
    "print(x)\n",
    "print(x.dtype)"
   ]
  },
  {
   "cell_type": "code",
   "execution_count": 4,
   "metadata": {},
   "outputs": [
    {
     "name": "stdout",
     "output_type": "stream",
     "text": [
      "[3 4 5]\n",
      "int32\n",
      "[3. 4. 5.]\n",
      "float64\n",
      "[3.+0.j 4.+0.j 5.+0.j]\n",
      "complex128\n"
     ]
    }
   ],
   "source": [
    "y = np.array([3, 4.0, 5], dtype= np.int32)\n",
    "\n",
    "print(y)\n",
    "print(y.dtype)\n",
    "\n",
    "z = np.array([3, 4.0, 5], dtype= np.float64)\n",
    "\n",
    "print(z)\n",
    "print(z.dtype)\n",
    "\n",
    "a = np.array([3, 4.0, 5], dtype= np.complex128)\n",
    "\n",
    "print(a)\n",
    "print(a.dtype)\n",
    "\n",
    "# Kendimizde bu şekilde data tipini belirleyebiliyoruz."
   ]
  },
  {
   "cell_type": "code",
   "execution_count": 5,
   "metadata": {},
   "outputs": [
    {
     "name": "stdout",
     "output_type": "stream",
     "text": [
      "[1 2 3]\n",
      "int32\n"
     ]
    }
   ],
   "source": [
    "x = np.array([1.2, 2.7, 3.8], dtype=np.int32)\n",
    "\n",
    "print(x)\n",
    "print(x.dtype)\n",
    "\n",
    "# Birbirleri arasındaki dönüşümlerin nasıl olduğunu bilmek gerekiyor. \n",
    "# Aksi takdirde yanlış sonuçlar alabiliriz.\n",
    "# Bu yaptığımız işleme de downcast adı verilir. Detaylı bilgiye internetten ulaşabilirsiniz."
   ]
  },
  {
   "cell_type": "code",
   "execution_count": 7,
   "metadata": {},
   "outputs": [
    {
     "name": "stdout",
     "output_type": "stream",
     "text": [
      "[1. 2. 3. 4.]\n",
      "float64\n",
      "[1.+0.j 2.+0.j 3.+0.j 4.+0.j]\n",
      "complex128\n"
     ]
    }
   ],
   "source": [
    "x = np.array([1, 2, 3, 4], dtype= np.float64)\n",
    "\n",
    "print(x)\n",
    "print(x.dtype)\n",
    "\n",
    "x = np.array(x, dtype= np.complex128)\n",
    "\n",
    "print(x)\n",
    "print(x.dtype)\n",
    "\n",
    "# Verileri tekrar girmeden de üzerinde bu şekilde değişiklik yapabiliriz."
   ]
  },
  {
   "cell_type": "code",
   "execution_count": 8,
   "metadata": {},
   "outputs": [
    {
     "name": "stdout",
     "output_type": "stream",
     "text": [
      "[1.+0.j 2.+0.j 3.+0.j 4.+0.j]\n",
      "complex128\n"
     ]
    }
   ],
   "source": [
    "x = np.array([1,2,3,4], dtype= np.float64)\n",
    "\n",
    "x = x.astype(np.complex128)\n",
    "\n",
    "print(x)\n",
    "print(x.dtype)\n",
    "\n",
    "# Aynı değişimi astype() metodu ile de değiştirebiliriz."
   ]
  },
  {
   "cell_type": "code",
   "execution_count": 15,
   "metadata": {},
   "outputs": [
    {
     "name": "stdout",
     "output_type": "stream",
     "text": [
      "[6.2 4.8 7.9]\n",
      "float64\n"
     ]
    }
   ],
   "source": [
    "x1 = np.array([1, 2, 3], dtype= np.int32)\n",
    "x2 = np.array([5.2, 2.8, 4.9], dtype= np.float64)\n",
    "\n",
    "print(x1 + x2)\n",
    "print((x1 + x2).dtype)\n",
    "\n",
    "# İki array'i işleme soktuğumuzda her zaman aldığımız sonuç daha yüksek olan veri tipi biçiminde yazdırılır."
   ]
  },
  {
   "cell_type": "code",
   "execution_count": 16,
   "metadata": {},
   "outputs": [
    {
     "name": "stdout",
     "output_type": "stream",
     "text": [
      "[nan  3.  2.]\n",
      "float64\n"
     ]
    },
    {
     "name": "stderr",
     "output_type": "stream",
     "text": [
      "C:\\Users\\Fallrytme\\AppData\\Local\\Temp\\ipykernel_4940\\1006470939.py:1: RuntimeWarning: invalid value encountered in sqrt\n",
      "  x = np.sqrt(np.array([-1, 9, 4], dtype= np.float64))\n"
     ]
    }
   ],
   "source": [
    "x = np.sqrt(np.array([-1, 9, 4], dtype= np.float64))\n",
    "\n",
    "print(x)\n",
    "print(x.dtype)\n",
    "\n",
    "# sqrt() metodu karekök almayı sağlar.\n",
    "# Burada aldığımız hatanın sebebi -1 sayısının karekökünün bir complex sayı olmasıdır.\n",
    "# Biz float64 değeri girerek burada hata yaptık."
   ]
  },
  {
   "cell_type": "code",
   "execution_count": 17,
   "metadata": {},
   "outputs": [
    {
     "name": "stdout",
     "output_type": "stream",
     "text": [
      "[0.+1.j 3.+0.j 2.+0.j]\n",
      "complex128\n"
     ]
    }
   ],
   "source": [
    "x = np.sqrt(np.array([-1, 9, 4], dtype= np.complex128))\n",
    "\n",
    "print(x)\n",
    "print(x.dtype)\n",
    "\n",
    "# Eğer doğru şekilde complex128 girersek bu hatayı almayız."
   ]
  },
  {
   "cell_type": "code",
   "execution_count": 20,
   "metadata": {},
   "outputs": [
    {
     "name": "stdout",
     "output_type": "stream",
     "text": [
      "[0. 3. 2.]\n",
      "[1. 0. 0.]\n",
      "float64\n",
      "float64\n"
     ]
    }
   ],
   "source": [
    "print(x.real)\n",
    "print(x.imag)\n",
    "\n",
    "print((x.real).dtype)\n",
    "print((x.imag).dtype)\n",
    "\n",
    "# real ve imag metodları ile de complex sayının reel ve sanal kısımlarını ayrı ayrı alabiliriz."
   ]
  },
  {
   "cell_type": "code",
   "execution_count": 21,
   "metadata": {},
   "outputs": [],
   "source": [
    "x = np.array([5, 9, 3.2, 16])\n",
    "np.save(\"ndarray_1\", x)\n",
    "\n",
    "# save() metoduyla array'imizi kaydedebiliriz."
   ]
  },
  {
   "cell_type": "code",
   "execution_count": 22,
   "metadata": {},
   "outputs": [
    {
     "name": "stdout",
     "output_type": "stream",
     "text": [
      "[ 5.   9.   3.2 16. ]\n",
      "(4,)\n"
     ]
    }
   ],
   "source": [
    "y = np.load(\"ndarray_1.npy\")\n",
    "\n",
    "print(y)\n",
    "print(y.shape)\n",
    "\n",
    "# load() metoduyla kaydettiğimiz array'imizi kullanabiliriz."
   ]
  },
  {
   "cell_type": "code",
   "execution_count": null,
   "metadata": {},
   "outputs": [],
   "source": []
  }
 ],
 "metadata": {
  "kernelspec": {
   "display_name": "Python 3.11.0 64-bit",
   "language": "python",
   "name": "python3"
  },
  "language_info": {
   "codemirror_mode": {
    "name": "ipython",
    "version": 3
   },
   "file_extension": ".py",
   "mimetype": "text/x-python",
   "name": "python",
   "nbconvert_exporter": "python",
   "pygments_lexer": "ipython3",
   "version": "3.11.0"
  },
  "orig_nbformat": 4,
  "vscode": {
   "interpreter": {
    "hash": "7c542dbbc07e6010b76b61de8a453dc04d29cd1fae7fbaa29851ecbad9aefb83"
   }
  }
 },
 "nbformat": 4,
 "nbformat_minor": 2
}
