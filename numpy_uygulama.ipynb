{
 "cells": [
  {
   "cell_type": "code",
   "execution_count": 1,
   "metadata": {},
   "outputs": [],
   "source": [
    "import numpy as np"
   ]
  },
  {
   "cell_type": "code",
   "execution_count": 3,
   "metadata": {},
   "outputs": [
    {
     "name": "stdout",
     "output_type": "stream",
     "text": [
      "[0. 0. 0. 0. 0.]\n"
     ]
    }
   ],
   "source": [
    "# 5 elemanlı 0 ve 1'lerden oluşan ndarrayleri oluşturunuz.\n",
    "\n",
    "x = np.zeros(5)\n",
    "\n",
    "print(x)"
   ]
  },
  {
   "cell_type": "code",
   "execution_count": 4,
   "metadata": {},
   "outputs": [
    {
     "name": "stdout",
     "output_type": "stream",
     "text": [
      "[1. 1. 1. 1. 1.]\n"
     ]
    }
   ],
   "source": [
    "y = np.ones(5)\n",
    "\n",
    "print(y)"
   ]
  },
  {
   "cell_type": "code",
   "execution_count": 6,
   "metadata": {},
   "outputs": [
    {
     "name": "stdout",
     "output_type": "stream",
     "text": [
      "[ 7  9 11 13 15 17 19 21 23 25 27 29 31 33 35 37 39 41]\n"
     ]
    }
   ],
   "source": [
    "# 7 ve 41 dahil olmak üzere aralarındaki tek sayıları gösteren ndarrayleri oluşturunuz.\n",
    "\n",
    "x = np.arange(7, 42, 2)\n",
    "\n",
    "print(x)"
   ]
  },
  {
   "cell_type": "code",
   "execution_count": 7,
   "metadata": {},
   "outputs": [
    {
     "name": "stdout",
     "output_type": "stream",
     "text": [
      "[[5 4 9 3]\n",
      " [2 9 3 8]\n",
      " [9 1 6 6]\n",
      " [5 4 2 8]]\n"
     ]
    }
   ],
   "source": [
    "# 1 ile 10 arasında rastgele 16 elemandan oluşan 4*4'lük bir matris oluşturunuz.\n",
    "\n",
    "x = np.random.randint(1, 10, size= 16).reshape(4, 4)\n",
    "\n",
    "print(x)"
   ]
  },
  {
   "cell_type": "code",
   "execution_count": 10,
   "metadata": {},
   "outputs": [
    {
     "name": "stdout",
     "output_type": "stream",
     "text": [
      "[0.1 0.2 0.3 0.4 0.5 0.6 0.7 0.8 0.9 1. ]\n"
     ]
    }
   ],
   "source": [
    "# 0.1 ile 1 arasında eşit farklı 10 elemanlı ndarrayleri oluşturunuz.\n",
    "\n",
    "x = np.linspace(0.1, 1, num= 10)\n",
    "\n",
    "print(x)"
   ]
  },
  {
   "cell_type": "code",
   "execution_count": 13,
   "metadata": {},
   "outputs": [
    {
     "name": "stdout",
     "output_type": "stream",
     "text": [
      "[[ 0  1  2  3  4]\n",
      " [ 5  6  7  8  9]\n",
      " [10 11 12 13 14]\n",
      " [15 16 17 18 19]\n",
      " [20 21 22 23 24]]\n",
      "\n",
      "[[ 7  8]\n",
      " [12 13]]\n"
     ]
    }
   ],
   "source": [
    "# 0'dan 25'e kadar elemanı olan 24 elemanlı 5*5'lik x matrisinden 7,8,12,13 sayılarını yazdırınız.\n",
    "\n",
    "x = np.arange(0, 25).reshape(5, 5)\n",
    "\n",
    "print(x)\n",
    "print()\n",
    "\n",
    "y = x[1:3, 2:4]\n",
    "\n",
    "print(y)"
   ]
  },
  {
   "cell_type": "code",
   "execution_count": 17,
   "metadata": {},
   "outputs": [
    {
     "name": "stdout",
     "output_type": "stream",
     "text": [
      "[[ 1  2  3  4]\n",
      " [ 5  6  7  8]\n",
      " [ 9 10 11 12]\n",
      " [13 14 15 16]]\n",
      "\n",
      "[[ 2  4  6  8]\n",
      " [10 12 14 16]]\n"
     ]
    }
   ],
   "source": [
    "# Elemanları 1 ile 17 arasındaki sayılardan oluşan 4*4'lük x matrisindeki çift sayıları Boolean 2*4'lük y matrisine dönüştürün.\n",
    "\n",
    "x = np.arange(1, 17).reshape(4, 4)\n",
    "\n",
    "print(x)\n",
    "print()\n",
    "\n",
    "y = x[x % 2 == 0]\n",
    "y = y.reshape(2, 4)\n",
    "\n",
    "print(y)"
   ]
  },
  {
   "cell_type": "code",
   "execution_count": 25,
   "metadata": {},
   "outputs": [
    {
     "name": "stdout",
     "output_type": "stream",
     "text": [
      "[[ 1  1]\n",
      " [ 5 10]]\n",
      "\n",
      "[100 700]\n",
      "\n",
      "Öğrencilerin sayısı: 60.0, Öğrenci olmayanların sayısı: 40.0\n"
     ]
    }
   ],
   "source": [
    "# Sinemaya giriş ücreti öğrenciler için 5tl, olmayanlar için 10tl olan bir sinemada 100 kişi için 700tl toplandığına göre \n",
    "# öğrenci sayısı kaçtır?\n",
    "\n",
    "a = np.array([[1, 1], [5, 10]])\n",
    "print(a)\n",
    "print()\n",
    "\n",
    "b = np.array([100, 700])\n",
    "\n",
    "print(b)\n",
    "print()\n",
    "\n",
    "x = np.linalg.solve(a, b)\n",
    "\n",
    "print(f\"Öğrencilerin sayısı: {x[0]}, Öğrenci olmayanların sayısı: {x[1]}\")"
   ]
  },
  {
   "cell_type": "code",
   "execution_count": 26,
   "metadata": {},
   "outputs": [
    {
     "name": "stdout",
     "output_type": "stream",
     "text": [
      "[4 1 2 3]\n",
      "\n",
      "[3 2 4 4]\n",
      "\n",
      "34\n"
     ]
    }
   ],
   "source": [
    "# Tek boyutlu ve çift boyutlu Ndarrayler için skaler çarpım örnekleri gösteriniz.\n",
    "\n",
    "x = np.random.randint(1, 5, 4)\n",
    "print(x)\n",
    "print()\n",
    "\n",
    "y = np.random.randint(1, 5, 4)\n",
    "print(y)\n",
    "print()\n",
    "\n",
    "print(np.dot(x, y))"
   ]
  },
  {
   "cell_type": "code",
   "execution_count": 27,
   "metadata": {},
   "outputs": [
    {
     "name": "stdout",
     "output_type": "stream",
     "text": [
      "[[1 1]\n",
      " [2 1]\n",
      " [4 1]]\n",
      "\n",
      "[[4 4 4]\n",
      " [3 1 2]]\n",
      "\n",
      "[[ 7  5  6]\n",
      " [11  9 10]\n",
      " [19 17 18]]\n"
     ]
    }
   ],
   "source": [
    "x = np.random.randint(1, 5, 6).reshape(3, 2)\n",
    "print(x)\n",
    "print()\n",
    "\n",
    "y = np.random.randint(1, 5, 6).reshape(2, 3)\n",
    "print(y)\n",
    "print()\n",
    "\n",
    "print(np.dot(x, y))"
   ]
  },
  {
   "cell_type": "code",
   "execution_count": null,
   "metadata": {},
   "outputs": [],
   "source": []
  }
 ],
 "metadata": {
  "kernelspec": {
   "display_name": "Python 3.11.0 64-bit",
   "language": "python",
   "name": "python3"
  },
  "language_info": {
   "codemirror_mode": {
    "name": "ipython",
    "version": 3
   },
   "file_extension": ".py",
   "mimetype": "text/x-python",
   "name": "python",
   "nbconvert_exporter": "python",
   "pygments_lexer": "ipython3",
   "version": "3.11.0"
  },
  "orig_nbformat": 4,
  "vscode": {
   "interpreter": {
    "hash": "7c542dbbc07e6010b76b61de8a453dc04d29cd1fae7fbaa29851ecbad9aefb83"
   }
  }
 },
 "nbformat": 4,
 "nbformat_minor": 2
}
