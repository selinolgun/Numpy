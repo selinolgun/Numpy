{
 "cells": [
  {
   "cell_type": "code",
   "execution_count": 7,
   "metadata": {},
   "outputs": [
    {
     "name": "stdout",
     "output_type": "stream",
     "text": [
      "[[1 2]\n",
      " [3 4]\n",
      " [5 6]\n",
      " [7 8]]\n",
      "(4, 2)\n",
      "2\n",
      "8\n"
     ]
    }
   ],
   "source": [
    "import numpy as np\n",
    "\n",
    "# 4*2'lik matris oluşturun ve özelliklerini yazdırın.\n",
    "\n",
    "x = np.arange(1, 9).reshape(4, 2)\n",
    "print(x)\n",
    "\n",
    "print(np.shape(x))\n",
    "print(np.ndim(x))\n",
    "print(x.size)"
   ]
  },
  {
   "cell_type": "code",
   "execution_count": 14,
   "metadata": {},
   "outputs": [
    {
     "name": "stdout",
     "output_type": "stream",
     "text": [
      "[[100. 110.]\n",
      " [120. 130.]\n",
      " [140. 150.]\n",
      " [160. 170.]\n",
      " [180. 190.]]\n"
     ]
    }
   ],
   "source": [
    "# Her öge arasında 10 fark olacak şekilde 100 ile 190 arasında bir 5*2'lik matris oluştur.\n",
    "\n",
    "x = np.linspace(100, 190, num= 10).reshape(5, 2)\n",
    "\n",
    "print(x)"
   ]
  },
  {
   "cell_type": "code",
   "execution_count": 15,
   "metadata": {},
   "outputs": [
    {
     "name": "stdout",
     "output_type": "stream",
     "text": [
      "[[11 22 33]\n",
      " [44 55 66]\n",
      " [77 88 99]]\n",
      "\n",
      "[[33]\n",
      " [66]\n",
      " [99]]\n"
     ]
    }
   ],
   "source": [
    "# sampleArray = numpy.array([[11 ,22, 33], [44, 55, 66], [77, 88, 99]]) bu array'daki her satırdan üçüncü sütunu yazdır.\n",
    "\n",
    "sampleArray = np.array([[11 ,22, 33], [44, 55, 66], [77, 88, 99]])\n",
    "print(sampleArray)\n",
    "print()\n",
    "\n",
    "x = sampleArray[:,2:]\n",
    "print(x)"
   ]
  },
  {
   "cell_type": "code",
   "execution_count": 18,
   "metadata": {},
   "outputs": [
    {
     "name": "stdout",
     "output_type": "stream",
     "text": [
      "[[ 3  6  9 12]\n",
      " [15 18 21 24]\n",
      " [27 30 33 36]\n",
      " [39 42 45 48]\n",
      " [51 54 57 60]]\n",
      "\n",
      "[[ 6 12]\n",
      " [30 36]\n",
      " [54 60]]\n"
     ]
    }
   ],
   "source": [
    "# Aşağıda verilen arraydan çift satıları ve tek sütunları yazdır.\n",
    "\n",
    "sampleArray = np.array([[3 ,6, 9, 12], [15 ,18, 21, 24], [27 ,30, 33, 36], [39 ,42, 45, 48], [51 ,54, 57, 60]])\n",
    "print(sampleArray)\n",
    "print()\n",
    "\n",
    "x = sampleArray[0::2, 1::2]\n",
    "print(x)"
   ]
  },
  {
   "cell_type": "code",
   "execution_count": 20,
   "metadata": {},
   "outputs": [
    {
     "name": "stdout",
     "output_type": "stream",
     "text": [
      "[[ 5  6  9]\n",
      " [21 18 27]]\n",
      "\n",
      "[[15 33 24]\n",
      " [ 4  7  1]]\n",
      "\n",
      "[[20 39 33]\n",
      " [25 25 28]]\n",
      "\n",
      "[[ 400 1521 1089]\n",
      " [ 625  625  784]]\n"
     ]
    }
   ],
   "source": [
    "# Aşağıda verilen iki arrayi önce toplayın sonra karelerini ekrana yazdırın.\n",
    "\n",
    "arrayOne = np.array([[5, 6, 9], [21 ,18, 27]])\n",
    "arrayTwo = np.array([[15 ,33, 24], [4 ,7, 1]])\n",
    "print(arrayOne)\n",
    "print()\n",
    "print(arrayTwo)\n",
    "print()\n",
    "\n",
    "toplam = arrayOne + arrayTwo\n",
    "print(toplam)\n",
    "print()\n",
    "\n",
    "karesi = np.power(toplam, 2)\n",
    "print(karesi)"
   ]
  },
  {
   "cell_type": "code",
   "execution_count": null,
   "metadata": {},
   "outputs": [],
   "source": []
  }
 ],
 "metadata": {
  "kernelspec": {
   "display_name": "Python 3.11.0 64-bit",
   "language": "python",
   "name": "python3"
  },
  "language_info": {
   "codemirror_mode": {
    "name": "ipython",
    "version": 3
   },
   "file_extension": ".py",
   "mimetype": "text/x-python",
   "name": "python",
   "nbconvert_exporter": "python",
   "pygments_lexer": "ipython3",
   "version": "3.11.0"
  },
  "orig_nbformat": 4,
  "vscode": {
   "interpreter": {
    "hash": "7c542dbbc07e6010b76b61de8a453dc04d29cd1fae7fbaa29851ecbad9aefb83"
   }
  }
 },
 "nbformat": 4,
 "nbformat_minor": 2
}
