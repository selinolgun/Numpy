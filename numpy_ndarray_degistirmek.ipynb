{
 "cells": [
  {
   "cell_type": "code",
   "execution_count": 1,
   "metadata": {},
   "outputs": [
    {
     "name": "stdout",
     "output_type": "stream",
     "text": [
      "[0 1 2 3 4]\n"
     ]
    }
   ],
   "source": [
    "import numpy as np\n",
    "\n",
    "x = np.arange(5)\n",
    "\n",
    "print(x)"
   ]
  },
  {
   "cell_type": "code",
   "execution_count": 2,
   "metadata": {},
   "outputs": [
    {
     "name": "stdout",
     "output_type": "stream",
     "text": [
      "0\n"
     ]
    }
   ],
   "source": [
    "print(x[0])\n",
    "\n",
    "# index numarasıyla istediğimiz elemana ulaşabiliriz."
   ]
  },
  {
   "cell_type": "code",
   "execution_count": 3,
   "metadata": {},
   "outputs": [
    {
     "name": "stdout",
     "output_type": "stream",
     "text": [
      "2\n"
     ]
    }
   ],
   "source": [
    "print(x[2])"
   ]
  },
  {
   "cell_type": "code",
   "execution_count": 5,
   "metadata": {},
   "outputs": [
    {
     "name": "stdout",
     "output_type": "stream",
     "text": [
      "4\n"
     ]
    }
   ],
   "source": [
    "print(x[4])"
   ]
  },
  {
   "cell_type": "code",
   "execution_count": 6,
   "metadata": {},
   "outputs": [
    {
     "name": "stdout",
     "output_type": "stream",
     "text": [
      "4\n"
     ]
    }
   ],
   "source": [
    "print(x[-1])\n",
    "\n",
    "# Negatif indeks numaralarıyla da ulaşılabilir."
   ]
  },
  {
   "cell_type": "code",
   "execution_count": 7,
   "metadata": {},
   "outputs": [
    {
     "name": "stdout",
     "output_type": "stream",
     "text": [
      "3\n"
     ]
    }
   ],
   "source": [
    "print(x[-2])"
   ]
  },
  {
   "cell_type": "code",
   "execution_count": 8,
   "metadata": {},
   "outputs": [
    {
     "name": "stdout",
     "output_type": "stream",
     "text": [
      "0\n"
     ]
    }
   ],
   "source": [
    "print(x[-5])"
   ]
  },
  {
   "cell_type": "code",
   "execution_count": 10,
   "metadata": {},
   "outputs": [
    {
     "name": "stdout",
     "output_type": "stream",
     "text": [
      "[0 1 2 3 4]\n",
      "[  0   1 200   3   4]\n"
     ]
    }
   ],
   "source": [
    "x = np.arange(5)\n",
    "\n",
    "print(x)\n",
    "\n",
    "x[2] = 200\n",
    "\n",
    "print(x)\n",
    "\n",
    "# İndex numarası ile elemanları bu şekilde değiştirebiliyoruz."
   ]
  },
  {
   "cell_type": "code",
   "execution_count": 12,
   "metadata": {},
   "outputs": [
    {
     "name": "stdout",
     "output_type": "stream",
     "text": [
      "[[ 0  1  2  3]\n",
      " [ 4  5  6  7]\n",
      " [ 8  9 10 11]]\n",
      "0\n"
     ]
    }
   ],
   "source": [
    "x = np.arange(12).reshape(3, 4)\n",
    "\n",
    "print(x)\n",
    "\n",
    "print(x[0, 0])\n",
    "\n",
    "# 2 boyutlu arraylerde eleman sayısına bu şekilde ulaşılır.\n",
    "# [0, 0] = 0. satırın 0. sütunu demektir."
   ]
  },
  {
   "cell_type": "code",
   "execution_count": 13,
   "metadata": {},
   "outputs": [
    {
     "name": "stdout",
     "output_type": "stream",
     "text": [
      "6\n"
     ]
    }
   ],
   "source": [
    "print(x[1, 2])\n",
    "\n",
    "# [1, 2] = 1. satır 2. sütun"
   ]
  },
  {
   "cell_type": "code",
   "execution_count": 14,
   "metadata": {},
   "outputs": [
    {
     "name": "stdout",
     "output_type": "stream",
     "text": [
      "[[100   1   2   3]\n",
      " [  4   5   6   7]\n",
      " [  8   9  10  11]]\n"
     ]
    }
   ],
   "source": [
    "x[0, 0] = 100\n",
    "\n",
    "print(x)\n",
    "\n",
    "# Aynı şekilde değişimde yapılabilir."
   ]
  },
  {
   "cell_type": "code",
   "execution_count": 16,
   "metadata": {},
   "outputs": [
    {
     "name": "stdout",
     "output_type": "stream",
     "text": [
      "[0 1 2 3 4 5]\n",
      "[2 3 4 5]\n",
      "[0 1 2 3 4 5]\n"
     ]
    }
   ],
   "source": [
    "x = np.arange(6)\n",
    "\n",
    "print(x)\n",
    "\n",
    "y = np.delete(x, [0, 1])\n",
    "\n",
    "print(y)\n",
    "print(x)\n",
    "\n",
    "# y'de yaptığımız işlemle x'in 0 ve 1'inci elemanlarını sildik ve yeni bir tanıma atadık.\n",
    "# Gördüğünüz gibi x değişmedi.\n",
    "# Ancak y'de elemanlar silindi ve öyle çıktı alındı."
   ]
  },
  {
   "cell_type": "code",
   "execution_count": 18,
   "metadata": {},
   "outputs": [
    {
     "name": "stdout",
     "output_type": "stream",
     "text": [
      "[[ 0  1  2  3]\n",
      " [ 4  5  6  7]\n",
      " [ 8  9 10 11]\n",
      " [12 13 14 15]]\n",
      "\n",
      "[[ 0  1  2  3]\n",
      " [ 8  9 10 11]\n",
      " [12 13 14 15]]\n"
     ]
    }
   ],
   "source": [
    "# axis = 0 row - satır\n",
    "# axis = 1 column - sütun\n",
    "\n",
    "x = np.arange(16).reshape(4, 4)\n",
    "\n",
    "print(x)\n",
    "print()\n",
    "\n",
    "x = np.delete(x, 1, axis= 0)\n",
    "\n",
    "print(x)\n",
    "\n",
    "# axis=0 girdiğimiz için silinen 2. parametre belirttiğimiz 1. satır oldu."
   ]
  },
  {
   "cell_type": "code",
   "execution_count": 19,
   "metadata": {},
   "outputs": [
    {
     "name": "stdout",
     "output_type": "stream",
     "text": [
      "[[ 1  3]\n",
      " [ 9 11]\n",
      " [13 15]]\n"
     ]
    }
   ],
   "source": [
    "x = np.delete(x, [0, 2], axis= 1)\n",
    "print(x)\n",
    "\n",
    "# axis=1 dediğimiz için 2. parametrede girdiğimiz 0 ve 2. sütunlar silindi."
   ]
  },
  {
   "cell_type": "code",
   "execution_count": 20,
   "metadata": {},
   "outputs": [
    {
     "name": "stdout",
     "output_type": "stream",
     "text": [
      "[0 1 2 3 4]\n",
      "\n",
      "[  0   1   2   3   4 100]\n"
     ]
    }
   ],
   "source": [
    "# np.append()\n",
    "\n",
    "x = np.arange(5)\n",
    "\n",
    "print(x)\n",
    "print()\n",
    "\n",
    "x = np.append(x, 100)\n",
    "\n",
    "print(x)\n",
    "\n",
    "# 100 değerini x array'inin sonuna ekledik."
   ]
  },
  {
   "cell_type": "code",
   "execution_count": 21,
   "metadata": {},
   "outputs": [
    {
     "name": "stdout",
     "output_type": "stream",
     "text": [
      "[  0   1   2   3   4 100 200 300]\n"
     ]
    }
   ],
   "source": [
    "x = np.append(x, [200, 300])\n",
    "\n",
    "print(x)"
   ]
  },
  {
   "cell_type": "code",
   "execution_count": 23,
   "metadata": {},
   "outputs": [
    {
     "name": "stdout",
     "output_type": "stream",
     "text": [
      "[[0 1 2]\n",
      " [3 4 5]\n",
      " [6 7 8]]\n",
      "\n",
      "[[  0   1   2]\n",
      " [  3   4   5]\n",
      " [  6   7   8]\n",
      " [100 200 300]]\n"
     ]
    }
   ],
   "source": [
    "x = np.arange(9).reshape(3, 3)\n",
    "\n",
    "print(x)\n",
    "print()\n",
    "\n",
    "x = np.append(x, [[100, 200, 300]], axis= 0)\n",
    "\n",
    "print(x)\n",
    "\n",
    "# axis ile satır olarak ekleyeceğimizi belirttik.\n",
    "# Matrise uygun bir array girdik.\n",
    "# Ve neye ekleceğimizi belirttik. İşte sonuç"
   ]
  },
  {
   "cell_type": "code",
   "execution_count": 25,
   "metadata": {},
   "outputs": [
    {
     "name": "stdout",
     "output_type": "stream",
     "text": [
      "[[  0   1   2 400]\n",
      " [  3   4   5 500]\n",
      " [  6   7   8 600]\n",
      " [100 200 300 700]]\n"
     ]
    }
   ],
   "source": [
    "x = np.append(x, [[400], [500], [600], [700]], axis= 1)\n",
    "\n",
    "print(x)\n",
    "\n",
    "# Burada farklı olarak bütün elemanları 2 boyutlu bir array içine değilde\n",
    "# Hepsini ayrı ayrı 2 boyutlu arrayler olacak biçiminde yazdık.\n",
    "# Ayrıca axis'i de 1 girerek sütun olduğunu belirttik."
   ]
  },
  {
   "cell_type": "code",
   "execution_count": 26,
   "metadata": {},
   "outputs": [
    {
     "name": "stdout",
     "output_type": "stream",
     "text": [
      "[0 1 2 3 4]\n",
      "\n",
      "[10  0  1  2  3  4]\n"
     ]
    }
   ],
   "source": [
    "# np.insert()\n",
    "\n",
    "x = np.arange(5)\n",
    "\n",
    "print(x)\n",
    "print()\n",
    "\n",
    "x = np.insert(x, 0, 10)\n",
    "\n",
    "print(x)\n",
    "\n",
    "# İlk parametre olarak hangi arrayde işlem yapılacağı,\n",
    "# İkinci olarak hangi index'e eleman ekleneceği,\n",
    "# Üçüncü olarakta eklemek istediğimiz parametreyi giriyoruz.\n",
    "# Girdiğimiz index numarasından sağa açılarak yeni elemana yer açar ve eklenir."
   ]
  },
  {
   "cell_type": "code",
   "execution_count": 27,
   "metadata": {},
   "outputs": [
    {
     "name": "stdout",
     "output_type": "stream",
     "text": [
      "[20 30 10  0  1  2  3  4]\n"
     ]
    }
   ],
   "source": [
    "x = np.insert(x, 0, [20, 30])\n",
    "\n",
    "print(x)\n",
    "\n",
    "# Birden fazla elemanda eklenebilir."
   ]
  },
  {
   "cell_type": "code",
   "execution_count": 33,
   "metadata": {},
   "outputs": [
    {
     "name": "stdout",
     "output_type": "stream",
     "text": [
      "[[0 1 2]\n",
      " [3 4 5]\n",
      " [6 7 8]]\n",
      "\n",
      "[[  0   1   2]\n",
      " [100 200 300]\n",
      " [  3   4   5]\n",
      " [  6   7   8]]\n"
     ]
    }
   ],
   "source": [
    "x = np.arange(9).reshape(3, 3)\n",
    "\n",
    "print(x)\n",
    "print()\n",
    "\n",
    "x = np.insert(x, 1, [100, 200, 300], axis= 0)\n",
    "\n",
    "print(x)\n",
    "\n",
    "# Matrise uygun şekilde elemanlar eklenmelidir. 3 sütunlu olduğu için bizde parametre olarak 3 sütunlu array yazdık.\n",
    "# Farklı olarak axis kullandık. axis= 0 parametresiyle satır olarak ekleyeceğimizi belirttik."
   ]
  },
  {
   "cell_type": "code",
   "execution_count": 34,
   "metadata": {},
   "outputs": [
    {
     "name": "stdout",
     "output_type": "stream",
     "text": [
      "[[400   0   1   2]\n",
      " [500 100 200 300]\n",
      " [600   3   4   5]\n",
      " [700   6   7   8]]\n"
     ]
    }
   ],
   "source": [
    "x = np.insert(x, 0, [400, 500, 600, 700], axis= 1)\n",
    "\n",
    "print(x)\n",
    "\n",
    "# axis=1 kullanarak sütun olarak eklemek istediğimizi belirttik.\n",
    "# Yine matrise uygun sayıda eleman girdik. İşte sonuç.\n",
    "# append'ten farklı olarak elemanları tek tek farklı arraylerde belirtmedik. Tek arrayde hepsini belirtebildik."
   ]
  },
  {
   "cell_type": "code",
   "execution_count": 35,
   "metadata": {},
   "outputs": [
    {
     "name": "stdout",
     "output_type": "stream",
     "text": [
      "[0 1 2]\n",
      "\n",
      "[[0 1 2]\n",
      " [3 4 5]\n",
      " [6 7 8]]\n",
      "\n",
      "[[0 1 2]\n",
      " [0 1 2]\n",
      " [3 4 5]\n",
      " [6 7 8]]\n"
     ]
    }
   ],
   "source": [
    "# np.stack()\n",
    "\n",
    "x = np.arange(3)\n",
    "\n",
    "print(x)\n",
    "print()\n",
    "\n",
    "y = np.arange(9).reshape(3, 3)\n",
    "\n",
    "print(y)\n",
    "print()\n",
    "\n",
    "z = np.vstack((x, y))\n",
    "\n",
    "print(z)\n",
    "\n",
    "# vstack yani vertical stack gördüğünüz gibi x'i y'ye satır olarak ekledi."
   ]
  },
  {
   "cell_type": "code",
   "execution_count": 36,
   "metadata": {},
   "outputs": [
    {
     "ename": "ValueError",
     "evalue": "all the input arrays must have same number of dimensions, but the array at index 0 has 1 dimension(s) and the array at index 1 has 2 dimension(s)",
     "output_type": "error",
     "traceback": [
      "\u001b[1;31m---------------------------------------------------------------------------\u001b[0m",
      "\u001b[1;31mValueError\u001b[0m                                Traceback (most recent call last)",
      "Cell \u001b[1;32mIn [36], line 1\u001b[0m\n\u001b[1;32m----> 1\u001b[0m a \u001b[39m=\u001b[39m np\u001b[39m.\u001b[39;49mhstack((x, y))\n\u001b[0;32m      3\u001b[0m \u001b[39mprint\u001b[39m(a)\n\u001b[0;32m      5\u001b[0m \u001b[39m# hstack yani horizontal stack\u001b[39;00m\n",
      "File \u001b[1;32m<__array_function__ internals>:200\u001b[0m, in \u001b[0;36mhstack\u001b[1;34m(*args, **kwargs)\u001b[0m\n",
      "File \u001b[1;32mc:\\Users\\Fallrytme\\AppData\\Local\\Programs\\Python\\Python311\\Lib\\site-packages\\numpy\\core\\shape_base.py:368\u001b[0m, in \u001b[0;36mhstack\u001b[1;34m(tup, dtype, casting)\u001b[0m\n\u001b[0;32m    366\u001b[0m \u001b[39m# As a special case, dimension 0 of 1-dimensional arrays is \"horizontal\"\u001b[39;00m\n\u001b[0;32m    367\u001b[0m \u001b[39mif\u001b[39;00m arrs \u001b[39mand\u001b[39;00m arrs[\u001b[39m0\u001b[39m]\u001b[39m.\u001b[39mndim \u001b[39m==\u001b[39m \u001b[39m1\u001b[39m:\n\u001b[1;32m--> 368\u001b[0m     \u001b[39mreturn\u001b[39;00m _nx\u001b[39m.\u001b[39;49mconcatenate(arrs, \u001b[39m0\u001b[39;49m, dtype\u001b[39m=\u001b[39;49mdtype, casting\u001b[39m=\u001b[39;49mcasting)\n\u001b[0;32m    369\u001b[0m \u001b[39melse\u001b[39;00m:\n\u001b[0;32m    370\u001b[0m     \u001b[39mreturn\u001b[39;00m _nx\u001b[39m.\u001b[39mconcatenate(arrs, \u001b[39m1\u001b[39m, dtype\u001b[39m=\u001b[39mdtype, casting\u001b[39m=\u001b[39mcasting)\n",
      "File \u001b[1;32m<__array_function__ internals>:200\u001b[0m, in \u001b[0;36mconcatenate\u001b[1;34m(*args, **kwargs)\u001b[0m\n",
      "\u001b[1;31mValueError\u001b[0m: all the input arrays must have same number of dimensions, but the array at index 0 has 1 dimension(s) and the array at index 1 has 2 dimension(s)"
     ]
    }
   ],
   "source": [
    "a = np.hstack((x, y))\n",
    "\n",
    "print(a)\n",
    "\n",
    "# hstack yani horizontal stack x'i y'ye sütun olarak ekler.\n",
    "# Ancak hata alırız çünkü matrislerin sütunları birbirine eşit değildir."
   ]
  },
  {
   "cell_type": "code",
   "execution_count": 40,
   "metadata": {},
   "outputs": [
    {
     "name": "stdout",
     "output_type": "stream",
     "text": [
      "[0 1 2 3 4 5 6 7 8]\n",
      "\n",
      "[0 1 2 0 1 2 3 4 5 6 7 8]\n"
     ]
    }
   ],
   "source": [
    "y = y.reshape(9)\n",
    "\n",
    "print(y)\n",
    "print()\n",
    "\n",
    "a = np.hstack((x, y))\n",
    "\n",
    "print(a)\n",
    "\n",
    "# Hatayı düzeltmek için şekil değiştirme uyguladık.\n",
    "# 9 elemanlı ve 2 boyutlu olan y'yi x'e benzetmek için reshape ile 1 boyutlu hale getirdik.\n",
    "# Daha sonra ekleme işlemini uygulayınca düzgün bir şekilde ekleme yapıldı."
   ]
  },
  {
   "cell_type": "code",
   "execution_count": null,
   "metadata": {},
   "outputs": [],
   "source": []
  }
 ],
 "metadata": {
  "kernelspec": {
   "display_name": "Python 3.11.0 64-bit",
   "language": "python",
   "name": "python3"
  },
  "language_info": {
   "codemirror_mode": {
    "name": "ipython",
    "version": 3
   },
   "file_extension": ".py",
   "mimetype": "text/x-python",
   "name": "python",
   "nbconvert_exporter": "python",
   "pygments_lexer": "ipython3",
   "version": "3.11.0"
  },
  "orig_nbformat": 4,
  "vscode": {
   "interpreter": {
    "hash": "7c542dbbc07e6010b76b61de8a453dc04d29cd1fae7fbaa29851ecbad9aefb83"
   }
  }
 },
 "nbformat": 4,
 "nbformat_minor": 2
}
