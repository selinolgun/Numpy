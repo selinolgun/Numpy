{
 "cells": [
  {
   "cell_type": "code",
   "execution_count": 1,
   "metadata": {},
   "outputs": [
    {
     "name": "stdout",
     "output_type": "stream",
     "text": [
      "[3 6]\n"
     ]
    }
   ],
   "source": [
    "import numpy as np\n",
    "\n",
    "x = np.array([2, 5, 3, 6, 9])\n",
    "y = np.array([6, 1, 8, 7, 3])\n",
    "\n",
    "print(np.intersect1d(x, y))\n",
    "\n",
    "# İki array arasında ortak olan elemanları yazdırdık."
   ]
  },
  {
   "cell_type": "code",
   "execution_count": 2,
   "metadata": {},
   "outputs": [
    {
     "name": "stdout",
     "output_type": "stream",
     "text": [
      "<class 'numpy.ndarray'>\n"
     ]
    }
   ],
   "source": [
    "z = np.intersect1d(x, y)\n",
    "\n",
    "print(type(z))\n",
    "\n",
    "# Gördüğünüz gibi z'nin de tipi ndarray."
   ]
  },
  {
   "cell_type": "code",
   "execution_count": 3,
   "metadata": {},
   "outputs": [
    {
     "name": "stdout",
     "output_type": "stream",
     "text": [
      "[2 5 9]\n"
     ]
    }
   ],
   "source": [
    "print(np.setdiff1d(x, y))\n",
    "\n",
    "# x'te olup y'de olmayan elemanları yazdırdık."
   ]
  },
  {
   "cell_type": "code",
   "execution_count": 4,
   "metadata": {},
   "outputs": [
    {
     "name": "stdout",
     "output_type": "stream",
     "text": [
      "[1 7 8]\n"
     ]
    }
   ],
   "source": [
    "print(np.setdiff1d(y, x))\n",
    "\n",
    "# y'de olup x'de olmayan elemanları yazdırdık."
   ]
  },
  {
   "cell_type": "code",
   "execution_count": 5,
   "metadata": {},
   "outputs": [
    {
     "name": "stdout",
     "output_type": "stream",
     "text": [
      "[1 2 3 5 6 7 8 9]\n"
     ]
    }
   ],
   "source": [
    "print(np.union1d(x, y))\n",
    "\n",
    "# x ve y'nin birleşimini yazdırdık."
   ]
  },
  {
   "cell_type": "code",
   "execution_count": 6,
   "metadata": {},
   "outputs": [
    {
     "name": "stdout",
     "output_type": "stream",
     "text": [
      "[False False  True  True False]\n"
     ]
    }
   ],
   "source": [
    "print(np.in1d(x, y))\n",
    "\n",
    "# x'teki elemanların y'de olup olmamasını sorgular. Varsa True yoksa False değeri yazdırılır."
   ]
  },
  {
   "cell_type": "code",
   "execution_count": 7,
   "metadata": {},
   "outputs": [
    {
     "name": "stdout",
     "output_type": "stream",
     "text": [
      "[ True False False False  True]\n"
     ]
    }
   ],
   "source": [
    "print(np.in1d(y, x))\n",
    "\n",
    "# Bu da tam tersi."
   ]
  },
  {
   "cell_type": "code",
   "execution_count": 8,
   "metadata": {},
   "outputs": [
    {
     "name": "stdout",
     "output_type": "stream",
     "text": [
      "[0 2 3 4 5 6 9]\n"
     ]
    }
   ],
   "source": [
    "x = np.array([2, 5, 3, 6, 9, 4, 3, 6, 5, 0])\n",
    "\n",
    "print(np.unique(x))\n",
    "\n",
    "# Kendi içindeki elemanları gözden geçirir ve tekrar edenleri tekrardan yazmaz.\n",
    "# Sadece bir kere yazmakla yetinir."
   ]
  },
  {
   "cell_type": "code",
   "execution_count": 10,
   "metadata": {},
   "outputs": [
    {
     "name": "stdout",
     "output_type": "stream",
     "text": [
      "[5 1 1 7 2 7 8 6 8 7]\n"
     ]
    }
   ],
   "source": [
    "# sort()\n",
    "\n",
    "x = np.random.randint(1, 10, size= 10)\n",
    "\n",
    "print(x)"
   ]
  },
  {
   "cell_type": "code",
   "execution_count": 11,
   "metadata": {},
   "outputs": [
    {
     "name": "stdout",
     "output_type": "stream",
     "text": [
      "[1 1 2 5 6 7 7 7 8 8]\n"
     ]
    }
   ],
   "source": [
    "print(np.sort(x))\n",
    "\n",
    "# x'in içindeki elemanları küçükten büyüğe sıraladık."
   ]
  },
  {
   "cell_type": "code",
   "execution_count": 12,
   "metadata": {},
   "outputs": [
    {
     "name": "stdout",
     "output_type": "stream",
     "text": [
      "[5 1 1 7 2 7 8 6 8 7]\n"
     ]
    }
   ],
   "source": [
    "print(x)\n",
    "\n",
    "# Ancak bu sıralama kalıcı bir şekilde gerçekleşmez. Orjinal aynı şekilde kalır."
   ]
  },
  {
   "cell_type": "code",
   "execution_count": 13,
   "metadata": {},
   "outputs": [
    {
     "name": "stdout",
     "output_type": "stream",
     "text": [
      "[1 9 9 2 7 4 8 6 9 1]\n"
     ]
    }
   ],
   "source": [
    "y = np.random.randint(1, 10, size= 10)\n",
    "\n",
    "print(y)"
   ]
  },
  {
   "cell_type": "code",
   "execution_count": 15,
   "metadata": {},
   "outputs": [
    {
     "name": "stdout",
     "output_type": "stream",
     "text": [
      "[1 1 2 4 6 7 8 9 9 9]\n"
     ]
    }
   ],
   "source": [
    "y.sort()\n",
    "\n",
    "print(y)\n",
    "\n",
    "# sort'u bu şekilde kullanırsak y'nin orjinali de değişmiş olur."
   ]
  },
  {
   "cell_type": "code",
   "execution_count": 16,
   "metadata": {},
   "outputs": [
    {
     "name": "stdout",
     "output_type": "stream",
     "text": [
      "[[3 2 9 6 3]\n",
      " [7 4 5 2 5]\n",
      " [1 4 2 6 4]\n",
      " [5 2 8 8 2]\n",
      " [5 4 3 6 5]]\n"
     ]
    }
   ],
   "source": [
    "x = np.random.randint(1, 10, size= (5,5))\n",
    "\n",
    "print(x)"
   ]
  },
  {
   "cell_type": "code",
   "execution_count": 17,
   "metadata": {},
   "outputs": [
    {
     "name": "stdout",
     "output_type": "stream",
     "text": [
      "[[1 2 2 2 2]\n",
      " [3 2 3 6 3]\n",
      " [5 4 5 6 4]\n",
      " [5 4 8 6 5]\n",
      " [7 4 9 8 5]]\n"
     ]
    }
   ],
   "source": [
    "print(np.sort(x, axis= 0))\n",
    "\n",
    "# axis= 0 yaptığımızda küçükten büyüğe sütunlara göre sıraladı. Yukarıdan aşağıya."
   ]
  },
  {
   "cell_type": "code",
   "execution_count": 19,
   "metadata": {},
   "outputs": [
    {
     "name": "stdout",
     "output_type": "stream",
     "text": [
      "[[2 3 3 6 9]\n",
      " [2 4 5 5 7]\n",
      " [1 2 4 4 6]\n",
      " [2 2 5 8 8]\n",
      " [3 4 5 5 6]]\n"
     ]
    }
   ],
   "source": [
    "print(np.sort(x, axis= 1))\n",
    "\n",
    "# axis= 1 yaptığımızda küçükten büyüğe satırlara göre sıraladı. Soldan sağa."
   ]
  },
  {
   "cell_type": "code",
   "execution_count": null,
   "metadata": {},
   "outputs": [],
   "source": []
  }
 ],
 "metadata": {
  "kernelspec": {
   "display_name": "Python 3.11.0 64-bit",
   "language": "python",
   "name": "python3"
  },
  "language_info": {
   "codemirror_mode": {
    "name": "ipython",
    "version": 3
   },
   "file_extension": ".py",
   "mimetype": "text/x-python",
   "name": "python",
   "nbconvert_exporter": "python",
   "pygments_lexer": "ipython3",
   "version": "3.11.0"
  },
  "orig_nbformat": 4,
  "vscode": {
   "interpreter": {
    "hash": "7c542dbbc07e6010b76b61de8a453dc04d29cd1fae7fbaa29851ecbad9aefb83"
   }
  }
 },
 "nbformat": 4,
 "nbformat_minor": 2
}
