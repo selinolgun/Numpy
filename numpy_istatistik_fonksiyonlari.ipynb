{
 "cells": [
  {
   "cell_type": "code",
   "execution_count": 1,
   "metadata": {},
   "outputs": [
    {
     "name": "stdout",
     "output_type": "stream",
     "text": [
      "[4 6 2 5 1 3 7 3]\n"
     ]
    }
   ],
   "source": [
    "import numpy as np\n",
    "\n",
    "x = np.random.randint(1, 10, size= 8)\n",
    "\n",
    "print(x)"
   ]
  },
  {
   "cell_type": "code",
   "execution_count": 2,
   "metadata": {},
   "outputs": [
    {
     "name": "stdout",
     "output_type": "stream",
     "text": [
      "3.875\n"
     ]
    }
   ],
   "source": [
    "print(x.mean())\n",
    "\n",
    "# Array'imiz elemanlarının ortalamasını bulduk."
   ]
  },
  {
   "cell_type": "code",
   "execution_count": 3,
   "metadata": {},
   "outputs": [
    {
     "name": "stdout",
     "output_type": "stream",
     "text": [
      "3.5\n"
     ]
    }
   ],
   "source": [
    "print(np.median(x))\n",
    "\n",
    "# Elemanlar sıralandıktan sonra ortada eleman varsa onu yoksa ortada kalan iki elemanın ortalamasını bulduk."
   ]
  },
  {
   "cell_type": "code",
   "execution_count": 4,
   "metadata": {},
   "outputs": [
    {
     "name": "stdout",
     "output_type": "stream",
     "text": [
      "1.899835519196333\n"
     ]
    }
   ],
   "source": [
    "print(x.std())\n",
    "\n",
    "# x array'ının standart sapmasını bulduk."
   ]
  },
  {
   "cell_type": "code",
   "execution_count": 6,
   "metadata": {},
   "outputs": [
    {
     "name": "stdout",
     "output_type": "stream",
     "text": [
      "[[4 1 7]\n",
      " [2 3 5]\n",
      " [4 9 2]\n",
      " [2 7 6]]\n"
     ]
    }
   ],
   "source": [
    "x = np.random.randint(1, 10, size= (4, 3))\n",
    "\n",
    "print(x)"
   ]
  },
  {
   "cell_type": "code",
   "execution_count": 7,
   "metadata": {},
   "outputs": [
    {
     "name": "stdout",
     "output_type": "stream",
     "text": [
      "[3. 5. 5.]\n"
     ]
    }
   ],
   "source": [
    "print(x.mean(axis= 0))\n",
    "\n",
    "# x arrayının sütunlarının ortalamasını ayrı ayrı öğrenebiliriz."
   ]
  },
  {
   "cell_type": "code",
   "execution_count": 8,
   "metadata": {},
   "outputs": [
    {
     "name": "stdout",
     "output_type": "stream",
     "text": [
      "[4.         3.33333333 5.         5.        ]\n"
     ]
    }
   ],
   "source": [
    "print(x.mean(axis= 1))\n",
    "\n",
    "# x arrayının satırlarının ortalamasını ayrı ayrı öğrenebiliriz."
   ]
  },
  {
   "cell_type": "code",
   "execution_count": 9,
   "metadata": {},
   "outputs": [
    {
     "name": "stdout",
     "output_type": "stream",
     "text": [
      "[4. 3. 4. 6.]\n"
     ]
    }
   ],
   "source": [
    "print(np.median(x, axis= 1))\n",
    "\n",
    "# x arrayının satırlarının ortasındaki sayıları öğrenebiliriz. \n",
    "# Veya tam ortada sayı yoksa ortada kalan 2 sayının ortalamasını öğrenebiliriz."
   ]
  },
  {
   "cell_type": "code",
   "execution_count": 11,
   "metadata": {},
   "outputs": [
    {
     "name": "stdout",
     "output_type": "stream",
     "text": [
      "[1.         3.16227766 1.87082869]\n"
     ]
    }
   ],
   "source": [
    "print(x.std(axis= 0))\n",
    "\n",
    "# x arrayının sütunlarının standart sapmasını ayrı ayrı öğrenebiliriz."
   ]
  },
  {
   "cell_type": "code",
   "execution_count": 12,
   "metadata": {},
   "outputs": [
    {
     "name": "stdout",
     "output_type": "stream",
     "text": [
      "[[5 4]\n",
      " [7 5]\n",
      " [2 5]]\n",
      "\n",
      "[[8 8]\n",
      " [8 1]\n",
      " [3 6]]\n"
     ]
    }
   ],
   "source": [
    "x = np.random.randint(1, 10, size= (3, 2))\n",
    "y = np.random.randint(1, 10, size= (3, 2))\n",
    "\n",
    "print(x)\n",
    "print()\n",
    "print(y)"
   ]
  },
  {
   "cell_type": "code",
   "execution_count": 13,
   "metadata": {},
   "outputs": [
    {
     "name": "stdout",
     "output_type": "stream",
     "text": [
      "[[13 12]\n",
      " [15  6]\n",
      " [ 5 11]]\n"
     ]
    }
   ],
   "source": [
    "print(x + y)\n",
    "\n",
    "# Şekli aynı olan matrislerde işlem yapmakta hiçbir sorun olmuyor. Bunlara da element-wise denir."
   ]
  },
  {
   "cell_type": "code",
   "execution_count": 14,
   "metadata": {},
   "outputs": [
    {
     "name": "stdout",
     "output_type": "stream",
     "text": [
      "[1]\n",
      "\n",
      "[[3 5]\n",
      " [9 9]\n",
      " [4 5]]\n"
     ]
    }
   ],
   "source": [
    "# broadcastable\n",
    "\n",
    "# Şekli aynı olmayan matrislerin birbirine benzetilip öyle işleme sokulmasına dayanan bir sistemdir.\n",
    "\n",
    "x = np.random.randint(1, 10, size= 1)\n",
    "y = np.random.randint(1, 10, size= (3, 2))\n",
    "\n",
    "print(x)\n",
    "print()\n",
    "print(y)"
   ]
  },
  {
   "cell_type": "code",
   "execution_count": 15,
   "metadata": {},
   "outputs": [
    {
     "name": "stdout",
     "output_type": "stream",
     "text": [
      "[[ 4  6]\n",
      " [10 10]\n",
      " [ 5  6]]\n"
     ]
    }
   ],
   "source": [
    "print(x + y)\n",
    "\n",
    "# Bu iki matrisin broadcastable olduğunu toplama işleminin yapılabilmesiyle görmüş olduk."
   ]
  },
  {
   "cell_type": "code",
   "execution_count": 16,
   "metadata": {},
   "outputs": [
    {
     "name": "stdout",
     "output_type": "stream",
     "text": [
      "[7 3]\n"
     ]
    }
   ],
   "source": [
    "x = np.random.randint(1, 10, size= 2)\n",
    "\n",
    "print(x)"
   ]
  },
  {
   "cell_type": "code",
   "execution_count": 17,
   "metadata": {},
   "outputs": [
    {
     "name": "stdout",
     "output_type": "stream",
     "text": [
      "[[10  8]\n",
      " [16 12]\n",
      " [11  8]]\n"
     ]
    }
   ],
   "source": [
    "print(x + y)\n",
    "\n",
    "# Bu da aynı şekilde broadcastable çünkü x matrisi genişletilerek y'ye benzetilebilir."
   ]
  },
  {
   "cell_type": "code",
   "execution_count": 18,
   "metadata": {},
   "outputs": [
    {
     "name": "stdout",
     "output_type": "stream",
     "text": [
      "[3 3 2]\n"
     ]
    }
   ],
   "source": [
    "x = np.random.randint(1, 10, size= 3)\n",
    "\n",
    "print(x)"
   ]
  },
  {
   "cell_type": "code",
   "execution_count": 19,
   "metadata": {},
   "outputs": [
    {
     "ename": "ValueError",
     "evalue": "operands could not be broadcast together with shapes (3,) (3,2) ",
     "output_type": "error",
     "traceback": [
      "\u001b[1;31m---------------------------------------------------------------------------\u001b[0m",
      "\u001b[1;31mValueError\u001b[0m                                Traceback (most recent call last)",
      "Cell \u001b[1;32mIn [19], line 1\u001b[0m\n\u001b[1;32m----> 1\u001b[0m \u001b[39mprint\u001b[39m(x \u001b[39m+\u001b[39;49m y)\n",
      "\u001b[1;31mValueError\u001b[0m: operands could not be broadcast together with shapes (3,) (3,2) "
     ]
    }
   ],
   "source": [
    "print(x + y)\n",
    "\n",
    "# Bu sefer işlem olmadı çünkü 3 satırlı olan x hiçbir genişletilme yaparak y'ye benzetilemiyor."
   ]
  },
  {
   "cell_type": "code",
   "execution_count": 20,
   "metadata": {},
   "outputs": [
    {
     "name": "stdout",
     "output_type": "stream",
     "text": [
      "[[1 9 9]]\n",
      "\n",
      "[[9]\n",
      " [9]\n",
      " [8]]\n"
     ]
    }
   ],
   "source": [
    "x = np.random.randint(1, 10, size= (1, 3))\n",
    "y = np.random.randint(1, 10, size= (3, 1))\n",
    "\n",
    "print(x)\n",
    "print()\n",
    "print(y)"
   ]
  },
  {
   "cell_type": "code",
   "execution_count": 21,
   "metadata": {},
   "outputs": [
    {
     "name": "stdout",
     "output_type": "stream",
     "text": [
      "[[10 18 18]\n",
      " [10 18 18]\n",
      " [ 9 17 17]]\n"
     ]
    }
   ],
   "source": [
    "print(x + y)\n",
    "\n",
    "# Yine genişletilerek birbirine benzetilebildiği için bunlarada broadcastable diyebiliriz.\n",
    "# Daha detaylı bilgi için internetten görsel aramalarına bakmanızı tavsiye ederim.\n",
    "# Broadcastable matrislerde bu işlem yaptıktan sonra satır ve sütunlara erişebilmemiz sayesinde istediğimiz sonuçları elde edebiliyoruz."
   ]
  },
  {
   "cell_type": "code",
   "execution_count": null,
   "metadata": {},
   "outputs": [],
   "source": []
  }
 ],
 "metadata": {
  "kernelspec": {
   "display_name": "Python 3.11.0 64-bit",
   "language": "python",
   "name": "python3"
  },
  "language_info": {
   "codemirror_mode": {
    "name": "ipython",
    "version": 3
   },
   "file_extension": ".py",
   "mimetype": "text/x-python",
   "name": "python",
   "nbconvert_exporter": "python",
   "pygments_lexer": "ipython3",
   "version": "3.11.0"
  },
  "orig_nbformat": 4,
  "vscode": {
   "interpreter": {
    "hash": "7c542dbbc07e6010b76b61de8a453dc04d29cd1fae7fbaa29851ecbad9aefb83"
   }
  }
 },
 "nbformat": 4,
 "nbformat_minor": 2
}
