{
 "cells": [
  {
   "cell_type": "code",
   "execution_count": 2,
   "metadata": {},
   "outputs": [
    {
     "name": "stdout",
     "output_type": "stream",
     "text": [
      "[0 1 2 3 4 5 6 7 8 9]\n",
      "\n",
      "[2 3 4 5]\n"
     ]
    }
   ],
   "source": [
    "import numpy as np\n",
    "\n",
    "x = np.arange(10)\n",
    "\n",
    "print(x)\n",
    "print()\n",
    "\n",
    "print(x[2:6])\n",
    "\n",
    "# 2. elemandan 6. elemana kadar slicing yapmış olduk. 6. eleman dahil olmuyor."
   ]
  },
  {
   "cell_type": "code",
   "execution_count": 4,
   "metadata": {},
   "outputs": [
    {
     "name": "stdout",
     "output_type": "stream",
     "text": [
      "[4 5 6 7 8 9]\n"
     ]
    }
   ],
   "source": [
    "print(x[4:])\n",
    "\n",
    "# Bitiş noktası belirtmediğimiz için 4. elemandan sonuna kadar yazdırdı."
   ]
  },
  {
   "cell_type": "code",
   "execution_count": 5,
   "metadata": {},
   "outputs": [
    {
     "name": "stdout",
     "output_type": "stream",
     "text": [
      "[0 1 2 3 4 5 6]\n"
     ]
    }
   ],
   "source": [
    "print(x[:7])\n",
    "\n",
    "# Başlangıç noktası belirtmediğimiz için baştan 7. elemana kadar yazdırdı."
   ]
  },
  {
   "cell_type": "code",
   "execution_count": 6,
   "metadata": {},
   "outputs": [
    {
     "name": "stdout",
     "output_type": "stream",
     "text": [
      "[9 8 7 6 5 4 3 2 1 0]\n"
     ]
    }
   ],
   "source": [
    "print(x[::-1])\n",
    "\n",
    "# 3. parametrede sayıları hangi aralıkla alınması gerektiğini gösterir.\n",
    "# Burada -1 diyerek - sağdan sola doğru okumasını 1 ise 1 1 ilerlemesini sağladı. \n",
    "# Bu sayede ters yazabildik."
   ]
  },
  {
   "cell_type": "code",
   "execution_count": 10,
   "metadata": {},
   "outputs": [
    {
     "name": "stdout",
     "output_type": "stream",
     "text": [
      "[3 5]\n"
     ]
    }
   ],
   "source": [
    "print(x[3:7:2])"
   ]
  },
  {
   "cell_type": "code",
   "execution_count": 7,
   "metadata": {},
   "outputs": [
    {
     "name": "stdout",
     "output_type": "stream",
     "text": [
      "[0 1 2 3 4 5 6 7 8]\n"
     ]
    }
   ],
   "source": [
    "print(x[:-1])\n",
    "\n",
    "# Aynı dilimleme terstende gösterilebilir."
   ]
  },
  {
   "cell_type": "code",
   "execution_count": 9,
   "metadata": {},
   "outputs": [
    {
     "name": "stdout",
     "output_type": "stream",
     "text": [
      "[6 7]\n"
     ]
    }
   ],
   "source": [
    "print(x[-4:-2])"
   ]
  },
  {
   "cell_type": "code",
   "execution_count": 13,
   "metadata": {},
   "outputs": [
    {
     "name": "stdout",
     "output_type": "stream",
     "text": [
      "[[ 0  1  2  3  4]\n",
      " [ 5  6  7  8  9]\n",
      " [10 11 12 13 14]\n",
      " [15 16 17 18 19]\n",
      " [20 21 22 23 24]]\n"
     ]
    }
   ],
   "source": [
    "x = np.arange(25).reshape(5, 5)\n",
    "\n",
    "print(x)\n",
    "\n",
    "# 5*5 2 boyutlu matrisi oluşturduk."
   ]
  },
  {
   "cell_type": "code",
   "execution_count": 14,
   "metadata": {},
   "outputs": [
    {
     "name": "stdout",
     "output_type": "stream",
     "text": [
      "[[ 1  2  3]\n",
      " [ 6  7  8]\n",
      " [11 12 13]]\n"
     ]
    }
   ],
   "source": [
    "y = x[0:3, 1:4]\n",
    "\n",
    "print(y)\n",
    "\n",
    "# 0'dan 3. satıra kadar ve(,) 1'den 4. sütuna kadar yazdırdık."
   ]
  },
  {
   "cell_type": "code",
   "execution_count": 15,
   "metadata": {},
   "outputs": [
    {
     "name": "stdout",
     "output_type": "stream",
     "text": [
      "[[10 11 12 13 14]\n",
      " [15 16 17 18 19]\n",
      " [20 21 22 23 24]]\n"
     ]
    }
   ],
   "source": [
    "z = x[2:]\n",
    "\n",
    "print(z)\n",
    "\n",
    "# Tek parametre verdiğimiz için ve bitiş değeri belirtmediğimiz için 2 ve 2 den sonraki tüm satırladı yazdırdık."
   ]
  },
  {
   "cell_type": "code",
   "execution_count": 16,
   "metadata": {},
   "outputs": [
    {
     "name": "stdout",
     "output_type": "stream",
     "text": [
      "[[ 0  1  2  3  4]\n",
      " [ 5  6  7  8  9]\n",
      " [10 11 12 13 14]\n",
      " [15 16 17 18 19]\n",
      " [20 21 22 23 24]]\n"
     ]
    }
   ],
   "source": [
    "t = x[::]\n",
    "\n",
    "print(t)\n",
    "\n",
    "#  Tek parametre verdiğimiz için ve başlangıç, bitiş ve aralık değerleri belirtmediğimiz için hepsini yazdırdık."
   ]
  },
  {
   "cell_type": "code",
   "execution_count": 17,
   "metadata": {},
   "outputs": [
    {
     "name": "stdout",
     "output_type": "stream",
     "text": [
      "[[ 3  4]\n",
      " [ 8  9]\n",
      " [13 14]\n",
      " [18 19]\n",
      " [23 24]]\n"
     ]
    }
   ],
   "source": [
    "v = x[:, 3:]\n",
    "print(v)\n",
    "\n",
    "# Satır için bir değer belirtilmediği için hepsini aldı.\n",
    "# Ancak sütunlarda başlangıç değeri 3 olarak belirtildiği için 3 ve 3'ten sonraki bütün sütunlar yazdırıldı."
   ]
  },
  {
   "cell_type": "code",
   "execution_count": 18,
   "metadata": {},
   "outputs": [
    {
     "name": "stdout",
     "output_type": "stream",
     "text": [
      "[[0 1 2]\n",
      " [3 4 5]\n",
      " [6 7 8]]\n"
     ]
    }
   ],
   "source": [
    "x = np.arange(9).reshape(3, 3)\n",
    "\n",
    "print(x)\n",
    "\n",
    "# 3*3lük matris oluşturduk."
   ]
  },
  {
   "cell_type": "code",
   "execution_count": 19,
   "metadata": {},
   "outputs": [
    {
     "name": "stdout",
     "output_type": "stream",
     "text": [
      "[[3 4]]\n"
     ]
    }
   ],
   "source": [
    "y = x[1:2, 0:2]\n",
    "\n",
    "print(y)\n",
    "\n",
    "# 1. satır ve 0,1. sütunları aldık ve yazdırdık."
   ]
  },
  {
   "cell_type": "code",
   "execution_count": 22,
   "metadata": {},
   "outputs": [
    {
     "name": "stdout",
     "output_type": "stream",
     "text": [
      "[[100   4]]\n",
      "\n",
      "[[  0   1   2]\n",
      " [100   4   5]\n",
      " [  6   7   8]]\n"
     ]
    }
   ],
   "source": [
    "y[0, 0] = 100\n",
    "\n",
    "print(y)\n",
    "print()\n",
    "print(x)\n",
    "\n",
    "# 0. satır, 0. sütundaki elemanı 100 ile değiştirdik.\n",
    "# y'deki değişim x'te de etki etti."
   ]
  },
  {
   "cell_type": "code",
   "execution_count": 23,
   "metadata": {},
   "outputs": [
    {
     "name": "stdout",
     "output_type": "stream",
     "text": [
      "True\n"
     ]
    }
   ],
   "source": [
    "print(np.shares_memory(x, y))\n",
    "\n",
    "# Aldığımız True değeri aynı hafızayı kapladığını bize gösterdi.\n",
    "# Yani slicing işlemi yaptıktan sonra elde ettiğimiz yeni tanımın bir elemanını değiştirirsek orjinalde de değişim olur.\n",
    "# Buna çok DİKKAT etmemiz gerekiyor."
   ]
  },
  {
   "cell_type": "code",
   "execution_count": 26,
   "metadata": {},
   "outputs": [
    {
     "name": "stdout",
     "output_type": "stream",
     "text": [
      "[[ 0  1  2  3]\n",
      " [ 4  5  6  7]\n",
      " [ 8  9 10 11]\n",
      " [12 13 14 15]]\n",
      "\n",
      "[[ 1  2]\n",
      " [ 5  6]\n",
      " [ 9 10]]\n",
      "\n",
      "False\n"
     ]
    }
   ],
   "source": [
    "x = np.arange(16).reshape(4, 4)\n",
    "\n",
    "print(x)\n",
    "print()\n",
    "\n",
    "y = np.copy(x[0:3, 1:3])\n",
    "\n",
    "print(y)\n",
    "print()\n",
    "\n",
    "print(np.shares_memory(x, y))\n",
    "\n",
    "# copy metodunu x'e slicing yaparak kullandık.\n",
    "# copy metodunu kullandığımız için öncekine göre artık x ve y aynı hafızada yer tutmuyor."
   ]
  },
  {
   "cell_type": "code",
   "execution_count": 27,
   "metadata": {},
   "outputs": [
    {
     "name": "stdout",
     "output_type": "stream",
     "text": [
      "[[100   2]\n",
      " [  5   6]\n",
      " [  9  10]]\n",
      "\n",
      "[[ 0  1  2  3]\n",
      " [ 4  5  6  7]\n",
      " [ 8  9 10 11]\n",
      " [12 13 14 15]]\n"
     ]
    }
   ],
   "source": [
    "y[0,0]= 100\n",
    "\n",
    "print(y)\n",
    "print()\n",
    "print(x)\n",
    "\n",
    "# Gördüğünüz gibi copy metodu kullandığımızda y'de yaptığımız değişiklik x'te bir değişime sebep olmadı."
   ]
  },
  {
   "cell_type": "code",
   "execution_count": 30,
   "metadata": {},
   "outputs": [
    {
     "name": "stdout",
     "output_type": "stream",
     "text": [
      "[[5]]\n",
      "\n",
      "False\n"
     ]
    }
   ],
   "source": [
    "z = x[1:2, 1:2].copy()\n",
    "\n",
    "print(z)\n",
    "print()\n",
    "print(np.shares_memory(x, z))\n",
    "\n",
    "# copy metodunu bu şekilde de kullanabilirsiniz. Aynı sonucu aldığımızı görebilirsiniz."
   ]
  },
  {
   "cell_type": "code",
   "execution_count": null,
   "metadata": {},
   "outputs": [],
   "source": []
  }
 ],
 "metadata": {
  "kernelspec": {
   "display_name": "Python 3.11.0 64-bit",
   "language": "python",
   "name": "python3"
  },
  "language_info": {
   "codemirror_mode": {
    "name": "ipython",
    "version": 3
   },
   "file_extension": ".py",
   "mimetype": "text/x-python",
   "name": "python",
   "nbconvert_exporter": "python",
   "pygments_lexer": "ipython3",
   "version": "3.11.0"
  },
  "orig_nbformat": 4,
  "vscode": {
   "interpreter": {
    "hash": "7c542dbbc07e6010b76b61de8a453dc04d29cd1fae7fbaa29851ecbad9aefb83"
   }
  }
 },
 "nbformat": 4,
 "nbformat_minor": 2
}
